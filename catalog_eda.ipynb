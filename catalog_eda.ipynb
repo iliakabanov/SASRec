{
 "cells": [
  {
   "cell_type": "code",
   "execution_count": 34,
   "id": "807afbff",
   "metadata": {},
   "outputs": [],
   "source": [
    "# import libraries\n",
    "import os\n",
    "import pandas as pd\n",
    "from tqdm import tqdm"
   ]
  },
  {
   "cell_type": "code",
   "execution_count": 38,
   "id": "e123a52d",
   "metadata": {},
   "outputs": [],
   "source": [
    "def read_parquet_files(data_dir):\n",
    "    # Получаем список всех файлов в директории\n",
    "    files = [f for f in os.listdir(data_dir) if f.startswith(\"part-\") and f.endswith(\".parquet\")]\n",
    "    \n",
    "    # Сортируем файлы по номерам\n",
    "    files.sort(key=lambda x: int(x.split('-')[1].split('.')[0]))\n",
    "    \n",
    "    # Читаем файлы по очереди и возвращаем данные через генератор\n",
    "    for file in tqdm(files):\n",
    "        file_path = os.path.join(data_dir, file)\n",
    "        yield pd.read_parquet(file_path)"
   ]
  },
  {
   "cell_type": "code",
   "execution_count": 39,
   "id": "11542a27",
   "metadata": {},
   "outputs": [
    {
     "name": "stderr",
     "output_type": "stream",
     "text": [
      "100%|████████████████████████████████████████████████████████████████████████████████| 113/113 [00:39<00:00,  2.83it/s]\n"
     ]
    }
   ],
   "source": [
    "# Использование генератора\n",
    "data_dir = \"./data/data_set_items\"  # путь к папке с файлами\n",
    "for data in read_parquet_files(data_dir):\n",
    "    if len(data) == 0:\n",
    "        data = data_part\n",
    "    else:\n",
    "        data = pd.concat([data, data_part], axis=0, ignore_index=True)"
   ]
  },
  {
   "cell_type": "code",
   "execution_count": 18,
   "id": "07524d2e",
   "metadata": {},
   "outputs": [
    {
     "data": {
      "text/plain": [
       "(43782, 15)"
      ]
     },
     "execution_count": 18,
     "metadata": {},
     "output_type": "execute_result"
    }
   ],
   "source": [
    "data.shape"
   ]
  },
  {
   "cell_type": "code",
   "execution_count": 19,
   "id": "33bcf330",
   "metadata": {},
   "outputs": [
    {
     "data": {
      "text/plain": [
       "Index(['id', 'autocomplete_id', 'name', 'score', 'customer_id', 'name_lower',\n",
       "       'metadata_json', 'computed_score', 'boost_or_bury', 'ds_metadata_json',\n",
       "       'section_name', 'created_at', 'updated_at', 'day', 'ac_key'],\n",
       "      dtype='object')"
      ]
     },
     "execution_count": 19,
     "metadata": {},
     "output_type": "execute_result"
    }
   ],
   "source": [
    "data.columns"
   ]
  },
  {
   "cell_type": "code",
   "execution_count": 30,
   "id": "33945e75",
   "metadata": {},
   "outputs": [
    {
     "data": {
      "text/plain": [
       "0        5054753\n",
       "1        5050195\n",
       "2        5029991\n",
       "3        5055256\n",
       "4        5048328\n",
       "          ...   \n",
       "43777    5234454\n",
       "43778    5208017\n",
       "43779    5223456\n",
       "43780    5226561\n",
       "43781    5223444\n",
       "Name: customer_id, Length: 43782, dtype: object"
      ]
     },
     "execution_count": 30,
     "metadata": {},
     "output_type": "execute_result"
    }
   ],
   "source": [
    "data['customer_id'] "
   ]
  }
 ],
 "metadata": {
  "kernelspec": {
   "display_name": "Python 3 (ipykernel)",
   "language": "python",
   "name": "python3"
  },
  "language_info": {
   "codemirror_mode": {
    "name": "ipython",
    "version": 3
   },
   "file_extension": ".py",
   "mimetype": "text/x-python",
   "name": "python",
   "nbconvert_exporter": "python",
   "pygments_lexer": "ipython3",
   "version": "3.10.2"
  }
 },
 "nbformat": 4,
 "nbformat_minor": 5
}
