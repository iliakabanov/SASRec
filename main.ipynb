{
  "cells": [
    {
      "cell_type": "code",
      "execution_count": 1,
      "metadata": {
        "colab": {
          "base_uri": "https://localhost:8080/"
        },
        "id": "abgfwSe8SGua",
        "outputId": "b0d5e0f7-f83d-43dc-a184-c051d5a20e8c"
      },
      "outputs": [
        {
          "output_type": "stream",
          "name": "stdout",
          "text": [
            "Drive already mounted at /content/drive/; to attempt to forcibly remount, call drive.mount(\"/content/drive/\", force_remount=True).\n"
          ]
        }
      ],
      "source": [
        "# Get access to Google disk\n",
        "from google.colab import drive\n",
        "drive.mount('/content/drive/')"
      ]
    },
    {
      "cell_type": "code",
      "execution_count": 2,
      "metadata": {
        "id": "w6z47sb7Y1T-"
      },
      "outputs": [],
      "source": [
        "# Import libraries\n",
        "from pyspark.sql import SparkSession\n",
        "from pyspark.sql import functions as F\n",
        "import matplotlib.pyplot as plt\n",
        "import pandas as pd\n",
        "from pyspark.sql.functions import col\n",
        "from pyspark.sql.functions import to_timestamp"
      ]
    },
    {
      "cell_type": "code",
      "execution_count": 3,
      "metadata": {
        "id": "QqQvRVZqY4VS"
      },
      "outputs": [],
      "source": [
        "# Создаём SparkSession\n",
        "spark = SparkSession.builder \\\n",
        "    .appName(\"PetCo\") \\\n",
        "    .getOrCreate()"
      ]
    },
    {
      "cell_type": "code",
      "execution_count": 4,
      "metadata": {
        "id": "nznyjo4J8OQa"
      },
      "outputs": [],
      "source": [
        "# # Добавляем файлы  в Spark-контекст\n",
        "from pyspark import SparkFiles\n",
        "\n",
        "spark.sparkContext.addFile(\"/content/drive/MyDrive/Colab Notebooks/diploma/scripts/process_data.py\")\n",
        "spark.sparkContext.addFile(\"/content/drive/MyDrive/Colab Notebooks/diploma/scripts/tests_for_datasets.py\")\n",
        "\n",
        "\n",
        "import process_data\n",
        "from tests_for_datasets import test_actions_sasrec, test_items_sasrec, common_tests_sasrec"
      ]
    },
    {
      "cell_type": "code",
      "execution_count": 5,
      "metadata": {
        "colab": {
          "base_uri": "https://localhost:8080/"
        },
        "id": "eRi4gASXTbv9",
        "outputId": "55ffc89b-49e0-454a-8bd0-77bb850a8b13"
      },
      "outputs": [
        {
          "output_type": "stream",
          "name": "stdout",
          "text": [
            "/content/drive/MyDrive/Colab Notebooks/diploma/scripts\n"
          ]
        }
      ],
      "source": [
        "%cd \"/content/drive/MyDrive/Colab Notebooks/diploma/scripts\""
      ]
    },
    {
      "cell_type": "code",
      "execution_count": 6,
      "metadata": {
        "id": "V4BGeehhYtwi"
      },
      "outputs": [],
      "source": [
        "WORKING_DIRECTORY = '/content/drive/MyDrive/Colab Notebooks/diploma/'"
      ]
    },
    {
      "cell_type": "code",
      "execution_count": 7,
      "metadata": {
        "id": "DA9RoOHnXfPb"
      },
      "outputs": [],
      "source": [
        "# !jupyter nbconvert --to script process_data.ipynb\n",
        "# !jupyter nbconvert --to script tests_for_datasets.ipynb"
      ]
    },
    {
      "cell_type": "markdown",
      "source": [
        "# Приведем датасет с логами юзеров к формату для SASRec"
      ],
      "metadata": {
        "id": "_OCBk0fbjOnP"
      }
    },
    {
      "cell_type": "code",
      "execution_count": 8,
      "metadata": {
        "colab": {
          "base_uri": "https://localhost:8080/"
        },
        "id": "A8vIaFUXYnJx",
        "outputId": "f978ffb3-1913-433a-be77-56e83391095d"
      },
      "outputs": [
        {
          "output_type": "stream",
          "name": "stdout",
          "text": [
            "+----------------+--------------------+-----+--------------------+--------------------+--------------------+-----------------+-------------+--------------------+--------------------+-----------+--------------------+------------+--------------------+--------------------+--------------------+-------+\n",
            "|customer_user_id|              ac_key|ac_id|             user_id|          session_id|           timestamp|         raw_term|  filter_name|        filter_value|              action|customer_id|           item_name|variation_id|      variation_name|               items|            items_v2|revenue|\n",
            "+----------------+--------------------+-----+--------------------+--------------------+--------------------+-----------------+-------------+--------------------+--------------------+-----------+--------------------+------------+--------------------+--------------------+--------------------+-------+\n",
            "|       435675978|key_afiSr5Y4gCaaSW5X| 2560|e5fbf045-94fa-498...|e5fbf045-94fa-498...|2024-11-29 10:16:...|             NULL|         NULL|                NULL|recommendation_re...|       NULL|                NULL|        NULL|                NULL|[{aquariums-40-to...|[{aquariums-40-to...|   NULL|\n",
            "|       435675978|key_afiSr5Y4gCaaSW5X| 2546|e5fbf045-94fa-498...|e5fbf045-94fa-498...|2024-11-29 10:16:...|             NULL|         NULL|                NULL|recommendation_re...|       NULL|                NULL|        NULL|                NULL|[{Purina Pro Plan...|[{Purina Pro Plan...|   NULL|\n",
            "|       435675978|key_afiSr5Y4gCaaSW5X| 1947|e5fbf045-94fa-498...|e5fbf045-94fa-498...|2024-11-29 10:16:...|             NULL|         NULL|                NULL|recommendation_re...|       NULL|                NULL|        NULL|                NULL|[{5184324, 612301...|[{5184324, 612301...|   NULL|\n",
            "|       435675978|key_afiSr5Y4gCaaSW5X| NULL|e5fbf045-94fa-498...|e5fbf045-94fa-498...|2024-11-29 10:16:...|nulo cat dry food|         NULL|                NULL|              search|       NULL|                NULL|        NULL|                NULL|                NULL|                NULL|   NULL|\n",
            "|       435675978|key_afiSr5Y4gCaaSW5X| 1947|e5fbf045-94fa-498...|e5fbf045-94fa-498...|2024-11-29 10:18:...|nulo cat dry food|         NULL|                NULL|       click_through|    5184322|Nulo MedalSeries ...|  1864389465|Nulo MedalSeries ...|                NULL|                NULL|   NULL|\n",
            "|       435675978|key_afiSr5Y4gCaaSW5X| 1947|e5fbf045-94fa-498...|e5fbf045-94fa-498...|2024-11-29 10:18:...|nulo cat dry food|         NULL|                NULL|       click_through|    5184324|Nulo MedalSeries ...|  1864389454|Nulo MedalSeries ...|                NULL|                NULL|   NULL|\n",
            "|       435675978|key_afiSr5Y4gCaaSW5X| 1947|e5fbf045-94fa-498...|e5fbf045-94fa-498...|2024-11-29 10:18:...|             NULL|         NULL|                NULL|    item_detail_load|    5184324|Nulo MedalSeries ...|  1864389454|Nulo MedalSeries ...|                NULL|                NULL|   NULL|\n",
            "|       635619080|key_afiSr5Y4gCaaSW5X| 1947|6521ca44-0aed-409...|6521ca44-0aed-409...|2024-11-29 01:20:...|             NULL|     group_id|dog-poop-bags-and...|  browse_result_load|       NULL|                NULL|        NULL|                NULL|[{5012934, 366899...|[{5012934, 366899...|   NULL|\n",
            "|       635619080|key_afiSr5Y4gCaaSW5X| 2560|6521ca44-0aed-409...|6521ca44-0aed-409...|2024-11-29 01:20:...|             NULL|         NULL|                NULL|recommendation_re...|       NULL|                NULL|        NULL|                NULL|[{aquariums-40-to...|[{aquariums-40-to...|   NULL|\n",
            "|       635619080|key_afiSr5Y4gCaaSW5X| 2546|6521ca44-0aed-409...|6521ca44-0aed-409...|2024-11-29 01:20:...|             NULL|         NULL|                NULL|recommendation_re...|       NULL|                NULL|        NULL|                NULL|[{Purina Pro Plan...|[{Purina Pro Plan...|   NULL|\n",
            "|       635619080|key_afiSr5Y4gCaaSW5X| 1947|6521ca44-0aed-409...|6521ca44-0aed-409...|2024-11-29 01:20:...|             NULL|         NULL|                NULL|recommendation_re...|       NULL|                NULL|        NULL|                NULL|[{5109955, 366900...|[{5109955, 366900...|   NULL|\n",
            "|       635619080|key_afiSr5Y4gCaaSW5X| 1948|6521ca44-0aed-409...|6521ca44-0aed-409...|2024-11-29 01:20:...|             zest|         NULL|                NULL|              select| zesty paws|          zesty paws|        NULL|                NULL|                NULL|                NULL|   NULL|\n",
            "|       635619080|key_afiSr5Y4gCaaSW5X| NULL|6521ca44-0aed-409...|6521ca44-0aed-409...|2024-11-29 01:20:...|       zesty paws|         NULL|                NULL|              search|       NULL|                NULL|        NULL|                NULL|                NULL|                NULL|   NULL|\n",
            "|       635619080|key_afiSr5Y4gCaaSW5X| 1947|6521ca44-0aed-409...|6521ca44-0aed-409...|2024-11-29 01:20:...|             NULL|Primary Brand|          Zesty Paws|  browse_result_load|       NULL|                NULL|        NULL|                NULL|[{5190824, 612302...|[{5190824, 612302...|   NULL|\n",
            "|       635619080|key_afiSr5Y4gCaaSW5X| 1947|6521ca44-0aed-409...|6521ca44-0aed-409...|2024-11-29 01:21:...|             NULL|Primary Brand|          Zesty Paws|  browse_result_load|       NULL|                NULL|        NULL|                NULL|[{5190824, 612302...|[{5190824, 612302...|   NULL|\n",
            "|       635619080|key_afiSr5Y4gCaaSW5X| 2560|6521ca44-0aed-409...|6521ca44-0aed-409...|2024-11-29 01:29:...|             NULL|         NULL|                NULL|recommendation_re...|       NULL|                NULL|        NULL|                NULL|[{aquariums-40-to...|[{aquariums-40-to...|   NULL|\n",
            "|       635619080|key_afiSr5Y4gCaaSW5X| 2546|6521ca44-0aed-409...|6521ca44-0aed-409...|2024-11-29 01:29:...|             NULL|         NULL|                NULL|recommendation_re...|       NULL|                NULL|        NULL|                NULL|[{Purina Pro Plan...|[{Purina Pro Plan...|   NULL|\n",
            "|       635619080|key_afiSr5Y4gCaaSW5X| 1947|6521ca44-0aed-409...|6521ca44-0aed-409...|2024-11-29 01:29:...|             NULL|         NULL|                NULL|recommendation_re...|       NULL|                NULL|        NULL|                NULL|[{5109955, 366900...|[{5109955, 366900...|   NULL|\n",
            "|       635619080|key_afiSr5Y4gCaaSW5X| NULL|6521ca44-0aed-409...|6521ca44-0aed-409...|2024-11-29 01:29:...|       native pet|         NULL|                NULL|              search|       NULL|                NULL|        NULL|                NULL|                NULL|                NULL|   NULL|\n",
            "|       635619080|key_afiSr5Y4gCaaSW5X| 1947|6521ca44-0aed-409...|6521ca44-0aed-409...|2024-11-29 01:29:...|             NULL|Primary Brand|          Native Pet|  browse_result_load|       NULL|                NULL|        NULL|                NULL|[{5196112, 612302...|[{5196112, 612302...|   NULL|\n",
            "+----------------+--------------------+-----+--------------------+--------------------+--------------------+-----------------+-------------+--------------------+--------------------+-----------+--------------------+------------+--------------------+--------------------+--------------------+-------+\n",
            "only showing top 20 rows\n",
            "\n"
          ]
        }
      ],
      "source": [
        "# Read dataset with beh logs\n",
        "data_logs = spark.read.parquet(WORKING_DIRECTORY+'data/needed_beh_logs')\n",
        "data_logs.show()"
      ]
    },
    {
      "cell_type": "code",
      "execution_count": 9,
      "metadata": {
        "colab": {
          "base_uri": "https://localhost:8080/"
        },
        "id": "azNnz-F0Y8AS",
        "outputId": "fd2380da-c5ea-4d37-f182-f515b468b635"
      },
      "outputs": [
        {
          "output_type": "stream",
          "name": "stdout",
          "text": [
            "Найдено строк c пропущенных значений: 0\n",
            "+-------+-------+--------------------+-------+\n",
            "|user_id|item_id|           timestamp|revenue|\n",
            "+-------+-------+--------------------+-------+\n",
            "|  -1002|5181461|2024-06-14 15:17:...|  10.69|\n",
            "|  -1002|5206702|2024-06-14 15:19:...|  16.49|\n",
            "|  -1002|5119257|2024-06-14 15:21:...|   4.39|\n",
            "|  -1002|5107211|2024-06-28 19:06:...|  69.48|\n",
            "|  -1002|5008694|2024-07-01 18:43:...|  59.98|\n",
            "|  -1002|5181462|2024-07-17 10:11:...|  23.73|\n",
            "|  -1002|5000991|2024-07-17 10:12:...|  55.99|\n",
            "|  -1002|5000991|2024-07-17 10:19:...|  55.99|\n",
            "|  -1002|5080929|2024-07-20 21:55:...|  36.99|\n",
            "|  -1002|5183021|2024-07-25 17:05:...|  67.99|\n",
            "|  -1002|5183309|2024-07-30 17:02:...|  68.98|\n",
            "|  -1002|5142756|2024-08-14 17:22:...|  17.18|\n",
            "|  -1002|5206288|2024-08-17 14:32:...|  15.88|\n",
            "|  -1002|5181804|2024-08-21 01:23:...|  19.99|\n",
            "|  -1002|5118422|2024-09-24 15:09:...|  20.69|\n",
            "|  -1002|5180971|2024-10-03 15:14:...|  46.99|\n",
            "|  -1002|5180971|2024-10-03 15:14:...|  46.99|\n",
            "|  -1002|5180971|2024-10-03 15:15:...|  46.99|\n",
            "|  -1002|5180971|2024-10-03 15:16:...|  46.99|\n",
            "|  -1002|5180971|2024-10-03 15:36:...|  46.99|\n",
            "+-------+-------+--------------------+-------+\n",
            "only showing top 20 rows\n",
            "\n"
          ]
        }
      ],
      "source": [
        "# Приведем датасет к презентабельному виду\n",
        "data_actions_cleaned = process_data.clean_data_actions(data_logs, 'conversion')\n",
        "data_actions_cleaned.show()"
      ]
    },
    {
      "cell_type": "code",
      "execution_count": 10,
      "metadata": {
        "colab": {
          "base_uri": "https://localhost:8080/"
        },
        "id": "PjWm_GU8abw3",
        "outputId": "226d74d7-31a2-4c02-a8a3-d25742bddf36"
      },
      "outputs": [
        {
          "output_type": "stream",
          "name": "stdout",
          "text": [
            "Папка /content/drive/MyDrive/Colab Notebooks/diploma/data/cleaned_data/ уже существует.\n",
            "Датасет сохранён по пути /content/drive/MyDrive/Colab Notebooks/diploma/data/cleaned_data/data_conversions.\n"
          ]
        }
      ],
      "source": [
        "# Сохраним презентабельный вид датасета\n",
        "cleaned_data_folder_path = WORKING_DIRECTORY+'data/cleaned_data/'\n",
        "output_name = 'data_conversions'\n",
        "process_data.save_dataset_parquet(data_actions_cleaned, cleaned_data_folder_path, output_name)"
      ]
    },
    {
      "cell_type": "code",
      "execution_count": 11,
      "metadata": {
        "colab": {
          "base_uri": "https://localhost:8080/"
        },
        "id": "zlQTLxNqaYgT",
        "outputId": "21e08304-161b-423d-e2ec-3ba11a339ca7"
      },
      "outputs": [
        {
          "output_type": "stream",
          "name": "stdout",
          "text": [
            "Найдено строк c пропущенных значений: 8366\n",
            "Колонка 'user_id' содержит 8366 пропущенных значений (NULL).\n",
            "Найдено строк c пропущенных значений: 8366\n",
            "Колонка 'user_id' содержит 8366 пропущенных значений (NULL).\n",
            "Размер датасета: (441616, 4)\n",
            "+-------+-------+-------------------+------+\n",
            "|user_id|item_id|           datetime|weight|\n",
            "+-------+-------+-------------------+------+\n",
            "|  -1002|5181461|2024-06-14 15:17:25|     1|\n",
            "|  -1002|5206702|2024-06-14 15:19:15|     1|\n",
            "|  -1002|5119257|2024-06-14 15:21:21|     1|\n",
            "|  -1002|5107211|2024-06-28 19:06:10|     1|\n",
            "|  -1002|5008694|2024-07-01 18:43:40|     1|\n",
            "|  -1002|5181462|2024-07-17 10:11:22|     1|\n",
            "|  -1002|5000991|2024-07-17 10:12:30|     1|\n",
            "|  -1002|5000991|2024-07-17 10:19:52|     1|\n",
            "|  -1002|5080929|2024-07-20 21:55:22|     1|\n",
            "|  -1002|5183021|2024-07-25 17:05:36|     1|\n",
            "|  -1002|5183309|2024-07-30 17:02:31|     1|\n",
            "|  -1002|5142756|2024-08-14 17:22:13|     1|\n",
            "|  -1002|5206288|2024-08-17 14:32:32|     1|\n",
            "|  -1002|5181804|2024-08-21 01:23:02|     1|\n",
            "|  -1002|5118422|2024-09-24 15:09:21|     1|\n",
            "|  -1002|5180971|2024-10-03 15:14:02|     1|\n",
            "|  -1002|5180971|2024-10-03 15:14:52|     1|\n",
            "|  -1002|5180971|2024-10-03 15:15:16|     1|\n",
            "|  -1002|5180971|2024-10-03 15:16:19|     1|\n",
            "|  -1002|5180971|2024-10-03 15:36:49|     1|\n",
            "+-------+-------+-------------------+------+\n",
            "only showing top 20 rows\n",
            "\n"
          ]
        }
      ],
      "source": [
        "# Теперь приведем датасет к формату SASRec\n",
        "data_actions_processed = process_data.actions_to_sasrec_format(data_actions_cleaned)\n",
        "print(f\"Размер датасета: ({data_actions_processed.count()}, {len(data_actions_processed.columns)})\")\n",
        "data_actions_processed.show()"
      ]
    },
    {
      "cell_type": "code",
      "execution_count": 12,
      "metadata": {
        "id": "1iNWcD66b3EW",
        "colab": {
          "base_uri": "https://localhost:8080/"
        },
        "outputId": "b90f99f2-cf45-4b57-b4d1-b05fd99a7937"
      },
      "outputs": [
        {
          "output_type": "stream",
          "name": "stdout",
          "text": [
            "Папка /content/drive/MyDrive/Colab Notebooks/diploma/data/sasrec_format/ уже существует.\n",
            "Датасет сохранён по пути /content/drive/MyDrive/Colab Notebooks/diploma/data/sasrec_format/actions.\n"
          ]
        }
      ],
      "source": [
        "# Сохраним датасет формата SASRec\n",
        "sasrec_data_folder_path = WORKING_DIRECTORY+'data/sasrec_format/'\n",
        "output_name = 'actions'\n",
        "process_data.save_dataset_parquet(data_actions_processed, sasrec_data_folder_path, output_name)\n",
        "# data_actions_processed = spark.read.parquet(sasrec_data_folder_path+output_name)"
      ]
    },
    {
      "cell_type": "code",
      "execution_count": 13,
      "metadata": {
        "colab": {
          "base_uri": "https://localhost:8080/"
        },
        "id": "vZXBCsQ0nunc",
        "outputId": "14dae5ae-8273-45d4-8d64-90afef517d2c"
      },
      "outputs": [
        {
          "output_type": "stream",
          "name": "stdout",
          "text": [
            "✅ В датасете правильные колонки и у них правильные типы данных\n",
            "✅ В датасете нет пропущенных значений\n",
            "✅ В датасете правильное число юзеров, которые сделали действие\n",
            "✅ Для всех юзеров правильно указаны товары и время действий\n"
          ]
        }
      ],
      "source": [
        "# Проведем тесты на правильность сборки датасета для SASRec\n",
        "test_actions_sasrec(df_final=data_actions_processed, df_original=data_logs, action='conversion')"
      ]
    },
    {
      "cell_type": "markdown",
      "source": [
        "# Приведем датасет с признаками товаров к формату SASRec"
      ],
      "metadata": {
        "id": "BimBi5hsjuDb"
      }
    },
    {
      "cell_type": "code",
      "execution_count": 11,
      "metadata": {
        "id": "XraXB-t6cCvn",
        "colab": {
          "base_uri": "https://localhost:8080/"
        },
        "outputId": "1ac25bb5-8add-4766-b335-b38afc415bc5"
      },
      "outputs": [
        {
          "output_type": "stream",
          "name": "stdout",
          "text": [
            "Основные метаданные:\n",
            "url: /shop/en/petcostore/product/kaytee-fortidiet-prohealth-ratmouse-food-5-lbs\n",
            "mfName: Kaytee\n",
            "itemimg: https://assets.petco.com/petco/image/upload/f_auto,q_auto,w_190/dpr_auto/1226754-center-1\n",
            "itemurl: /shop/en/petcostore/product/kaytee-fortidiet-prohealth-ratmouse-food-5-lbs\n",
            "itemname: Kaytee Forti-Diet Pro Health Mouse, Rat Food\n",
            "group_ids: ['repeat-delivery-eligible-products', 'rat-food', 'small-animal-repeat-delivery-products', 'same-day-delivery-small-pet-products', 'small-animal-food', 'buy-online-pick-up-in-store-small-animal-products']\n",
            "image_url: https://assets.petco.com/petco/image/upload/f_auto,q_auto,w_190/dpr_auto/1226754-center-1\n",
            "startDate: 26297760\n",
            "UPC_NUMBER: 71859000015\n",
            "deactivated: False\n",
            "AverageRating: 4.5395\n",
            "TotalReviewCount: 76\n",
            "parentCatEntryID: 865023\n",
            "PTC_OMNI_TAXONOMY: Consumables|Food|Household Pet\n",
            "PTC_OMNI_BOPUS_FLAG: Yes\n",
            "PTC_OMNI_RX_FOOD_IND: No\n",
            "PTC_OMNI_LIVE_FOOD_FL: No\n",
            "PTC_OMNI_BRAND_PRIMARY: Kaytee\n",
            "parentCatEntryIDAsString: 865023\n",
            "PTC_OMNI_PRIMARY_ITEM_FLAG: Yes\n",
            "PTC_OMNI_IN_STORE_ONLY_FLAG: No\n",
            "PTC_OMNI_REPEAT_DELIVERY_FL: Yes\n",
            "PTC_OMNI_PERSONALIZED_ITEM_FL: No\n",
            "PTC_OMNI_SAME_DAY_DELIVERY_FG: Yes\n",
            "\n",
            "Facets:\n",
            "Line: ['Forti-Diet Pro Health']\n",
            "form: ['Powder or Pellets or Granules']\n",
            "Organic: ['No']\n",
            "Holistic: ['No']\n",
            "Pet Type: ['Rat']\n",
            "Food Form: ['Powder or Pellets or Granules']\n",
            "Lifestage: ['All Lifestages']\n",
            "How to get it: ['Same Day Delivery', 'Free Pickup Today', 'One Time Delivery', 'Repeat Delivery']\n",
            "Primary Brand: ['Kaytee']\n",
            "Customer Rating: [4.5395]\n",
            "Killed Item flag: ['No']\n",
            "Primary Pet Type: ['Small Animal']\n",
            "Rx Food Indicator: ['No']\n",
            "Dietary Preference: ['With Grain']\n",
            "Personalized Item flag: ['No']\n",
            "PTC_OMNI_BRAND_SUB_BRND: ['Forti-Diet Pro Health']\n",
            "Limited Ingredients Diet: ['No']\n"
          ]
        }
      ],
      "source": [
        "# Read dataset with items\n",
        "data_items = spark.read.parquet(WORKING_DIRECTORY+'data/data_set_items')\n",
        "# data_items.show()\n",
        "# Print metadata and facets columns\n",
        "process_data.print_metadata(data_items)"
      ]
    },
    {
      "cell_type": "code",
      "execution_count": 12,
      "metadata": {
        "id": "7Lgmw4gEcML2",
        "colab": {
          "base_uri": "https://localhost:8080/"
        },
        "outputId": "54bdd94d-1466-4374-dd90-341c0c608dce"
      },
      "outputs": [
        {
          "output_type": "stream",
          "name": "stdout",
          "text": [
            "+-----------+-------------------------------------------------------------------------------+-------------------------------------------------------------------------------+-------------------------------------------------------------------------------------+------------------------------------------------------------------------------------------+-------------------------------------------------------------------------------+-------------------------------------------------------------------------------------------------------------------------------------------------------------------------------------------------------------------------------------------------------------------------------------------------------------------------------+--------------------------------------------------------------------------+-----------------------+--------------+----------------+\n",
            "|customer_id|name                                                                           |name_lower                                                                     |url                                                                                  |image_url                                                                                 |itemname                                                                       |group_ids_intersect                                                                                                                                                                                                                                                                                                            |How_to_get_it                                                             |Primary_Brand          |Pet_Type      |Primary_Pet_Type|\n",
            "+-----------+-------------------------------------------------------------------------------+-------------------------------------------------------------------------------+-------------------------------------------------------------------------------------+------------------------------------------------------------------------------------------+-------------------------------------------------------------------------------+-------------------------------------------------------------------------------------------------------------------------------------------------------------------------------------------------------------------------------------------------------------------------------------------------------------------------------+--------------------------------------------------------------------------+-----------------------+--------------+----------------+\n",
            "|100039     |Prevue Pet Products Cockatiel Court Tabletop Playpen                           |prevue pet products cockatiel court tabletop playpen                           |/shop/en/petcostore/product/prevue-pet-cockatiel-court-tabletop-playpen              |https://assets.petco.com/petco/image/upload/f_auto,q_auto,w_190/dpr_auto/189367-center-1  |Prevue Pet Products Cockatiel Court Tabletop Playpen                           |[cockatiel-perches, parakeet-perches, finch-perches, conure-perches, bird-perches-swings-and-playstands]                                                                                                                                                                                                                       |[One Time Delivery]                                                       |[Prevue Pet Products]  |[Canary]      |[Bird]          |\n",
            "|100140     |Nature's Miracle Orange Scent Oxy Formula Set-In Stain Destroyer for Dog Messes|nature's miracle orange scent oxy formula set-in stain destroyer for dog messes|/shop/en/petcostore/product/natures-miracle-orange-oxy-power-stain-and-odor-remover  |https://assets.petco.com/petco/image/upload/f_auto,q_auto,w_190/dpr_auto/379085-center-1  |Nature's Miracle Orange Scent Oxy Formula Set-In Stain Destroyer for Dog Messes|[repeat-delivery-eligible-products, same-day-delivery-dog-products, buy-online-pick-up-in-store-dog-products, same-day-delivery-cat-products, buy-online-pick-up-in-store-cat-products, dog-odor-removal-and-cleaners, pet-hair-vacuums-accessories, dog-repeat-delivery-products, dog-potty-training, stain-and-odor-removers]|[Same Day Delivery, Free Pickup Today, One Time Delivery, Repeat Delivery]|[Nature's Miracle]     |NULL          |[Cat,Dog]       |\n",
            "|100243     |Kaytee Forti-Diet Pro Health Honey Stick Cockatiel Treats                      |kaytee forti-diet pro health honey stick cockatiel treats                      |/shop/en/petcostore/product/kaytee-forti-diet-pro-health-honey-stick-cockatiel-treats|https://assets.petco.com/petco/image/upload/f_auto,q_auto,w_190/dpr_auto/648400-right-1   |Kaytee Forti-Diet Pro Health Honey Stick Cockatiel Treats                      |[bird-repeat-delivery-products, repeat-delivery-add-on-bird, buy-online-pick-up-in-store-bird-products, bird-treats-sticks-grit, conure-treats, cockatiel-treats, amazon-parrot-treats, repeat-delivery-eligible-products, same-day-delivery-bird-products]                                                                    |[Same Day Delivery, Free Pickup Today, One Time Delivery, Repeat Delivery]|[Kaytee]               |[African Grey]|[Bird]          |\n",
            "|100244     |Kaytee Forti-Diet Pro Health Honey Stick Parrot Treats                         |kaytee forti-diet pro health honey stick parrot treats                         |/shop/en/petcostore/product/kaytee-forti-diet-pro-health-honey-stick-parrot-treats   |https://assets.petco.com/petco/image/upload/f_auto,q_auto,w_190/dpr_auto/648418-right-1   |Kaytee Forti-Diet Pro Health Honey Stick Parrot Treats                         |[amazon-parrot-treats, repeat-delivery-eligible-products, bird-treats-sticks-grit, buy-online-pick-up-in-store-bird-products, same-day-delivery-bird-products, bird-repeat-delivery-products]                                                                                                                                  |[Same Day Delivery, Free Pickup Today, One Time Delivery, Repeat Delivery]|[Kaytee]               |[African Grey]|[Bird]          |\n",
            "|100254     |Royal Canin Shih Tzu Adult Breed Specific Dry Dog Food                         |royal canin shih tzu adult breed specific dry dog food                         |/shop/en/petcostore/product/royal-canin-mini-canine-health-nutrition-shih-tzu        |https://assets.petco.com/petco/image/upload/f_auto,q_auto,w_190/dpr_auto/1463616-center-1 |Royal Canin Shih Tzu Adult Breed Specific Dry Dog Food                         |[dry-dog-food-with-grain, dry-dog-food, buy-online-pick-up-in-store-dog-products, small-breed-dog-food, dog-repeat-delivery-products, repeat-delivery-eligible-products]                                                                                                                                                       |[Same Day Delivery, Free Pickup Today, One Time Delivery, Repeat Delivery]|[Royal Canin]          |NULL          |[Dog]           |\n",
            "|100491     |KONG Zoom Groom Brush                                                          |kong zoom groom brush                                                          |/shop/en/petcostore/product/kong-zoom-groom-brush                                    |https://assets.petco.com/petco/image/upload/f_auto,q_auto,w_190/dpr_auto/823929-center-1  |KONG Zoom Groom Brush                                                          |[same-day-delivery-dog-products, buy-online-pick-up-in-store-dog-products, dog-brushes]                                                                                                                                                                                                                                        |[Same Day Delivery, Free Pickup Today, One Time Delivery]                 |[KONG]                 |NULL          |[Dog]           |\n",
            "|100507     |TetraPond AquaSafe Pond Water Conditioner                                      |tetrapond aquasafe pond water conditioner                                      |/shop/en/petcostore/product/tetrapond-aquasafe-pond-water-conditioner                |https://assets.petco.com/petco/image/upload/f_auto,q_auto,w_190/dpr_auto/1306340-Center-1 |TetraPond AquaSafe Pond Water Conditioner                                      |[pond-supplies, fish-tank-water-conditioners-additives, repeat-delivery-eligible-products, pond-water-care, fish-repeat-delivery-products]                                                                                                                                                                                     |[One Time Delivery, Repeat Delivery]                                      |[Tetra]                |[Pond]        |[Fish]          |\n",
            "|100568     |PetSafe 3 Volt Lithium Battery Module                                          |petsafe 3 volt lithium battery module                                          |/shop/en/petcostore/product/petsafe-3-volt-lithium-battery-module                    |https://assets.petco.com/petco/image/upload/f_auto,q_auto,w_190/dpr_auto/1003364-center-1 |PetSafe 3 Volt Lithium Battery Module                                          |[electronic-dog-training-collars-and-accessories]                                                                                                                                                                                                                                                                              |[Same Day Delivery, Free Pickup Today, One Time Delivery]                 |[PetSafe]              |NULL          |[Dog]           |\n",
            "|100763     |Coastal Pet 3/4\" Personalized Nylon Leash in Black                             |coastal pet 3/4\" personalized nylon leash in black                             |/shop/en/petcostore/product/coastal-pet-34-personalized-nylon-lead-in-black          |https://assets.petco.com/petco/image/upload/f_auto,q_auto,w_190/dpr_auto/1015133-center-1 |Coastal Pet 3/4\" Personalized Nylon Leash in Black                             |[dog-leashes, personalized-leashes]                                                                                                                                                                                                                                                                                            |[One Time Delivery]                                                       |[Coastal Pet]          |NULL          |[Dog]           |\n",
            "|100767     |Coastal Pet 3/4\" Personalized Nylon Leash in Purple                            |coastal pet 3/4\" personalized nylon leash in purple                            |/shop/en/petcostore/product/coastal-pet-34-personalized-nylon-lead-in-purple         |https://assets.petco.com/petco/image/upload/f_auto,q_auto,w_190/dpr_auto/1015176-center-1 |Coastal Pet 3/4\" Personalized Nylon Leash in Purple                            |[dog-leashes, personalized-leashes]                                                                                                                                                                                                                                                                                            |[One Time Delivery]                                                       |[Coastal Pet]          |NULL          |[Dog]           |\n",
            "|100768     |Coastal Pet 3/4\" Personalized Nylon Leash in Red                               |coastal pet 3/4\" personalized nylon leash in red                               |/shop/en/petcostore/product/coastal-pet-34-personalized-nylon-lead-in-red            |https://assets.petco.com/petco/image/upload/f_auto,q_auto,w_190/dpr_auto/1015184-center-1 |Coastal Pet 3/4\" Personalized Nylon Leash in Red                               |[personalized-leashes, dog-leashes]                                                                                                                                                                                                                                                                                            |[One Time Delivery]                                                       |[Coastal Pet]          |NULL          |[Dog]           |\n",
            "|100837     |ScoopFree by PetSafe Automatic Litter Box Privacy Hood                         |scoopfree by petsafe automatic litter box privacy hood                         |/shop/en/petcostore/product/scoopfree-automatic-litter-box-privacy-hood              |https://assets.petco.com/petco/image/upload/f_auto,q_auto,w_190/dpr_auto/1021400-left-1   |ScoopFree by PetSafe Automatic Litter Box Privacy Hood                         |[responsible-packaging-cat-supplies, cat-litter-box-covers]                                                                                                                                                                                                                                                                    |[One Time Delivery]                                                       |[ScoopFree]            |NULL          |[Cat]           |\n",
            "|101051     |PondCare MelaFix                                                               |pondcare melafix                                                               |/shop/en/petcostore/product/pondcare-melafix                                         |https://assets.petco.com/petco/image/upload/f_auto,q_auto,w_190/dpr_auto/727814-center-1  |PondCare MelaFix                                                               |[same-day-delivery-fish-products, buy-online-pick-up-in-store-fish-products, fish-health-wellness, repeat-delivery-eligible-products, pond-supplies]                                                                                                                                                                           |[Same Day Delivery, Free Pickup Today, One Time Delivery]                 |[API]                  |[Goldfish]    |[Fish]          |\n",
            "|101065     |Assorted Platies                                                               |assorted platies                                                               |/shop/en/petcostore/product/assorted-platies                                         |https://assets.petco.com/petco/image/upload/f_auto,q_auto,w_190/dpr_auto/1032194-center-1 |Assorted Platies                                                               |[community-schooling-freshwater-fish, freshwater-fish-platies]                                                                                                                                                                                                                                                                 |[One Time Delivery]                                                       |[Petco Freshwater Fish]|NULL          |[Fish]          |\n",
            "|101068     |Male Betta                                                                     |male betta                                                                     |/shop/en/petcostore/product/male-veiltail-betta                                      |https://assets.petco.com/petco/image/upload/f_auto,q_auto,w_190/dpr_auto/1031759-Center-1 |Male Betta                                                                     |[freshwater-fish, freshwater-fish-bettas, live-betta-fish, betta-fish-shop]                                                                                                                                                                                                                                                    |[One Time Delivery]                                                       |[Imagitarium]          |[Betta]       |[Fish]          |\n",
            "|101069     |Male Crowntail Betta                                                           |male crowntail betta                                                           |/shop/en/petcostore/product/male-crowntail-betta                                     |https://assets.petco.com/petco/image/upload/f_auto,q_auto,w_190/dpr_auto/1031775-Center-1 |Male Crowntail Betta                                                           |[freshwater-fish-bettas, freshwater-fish, betta-fish-shop, live-betta-fish]                                                                                                                                                                                                                                                    |[One Time Delivery]                                                       |[Imagitarium]          |[Betta]       |[Fish]          |\n",
            "|101076     |Grade A Butterfly Koi                                                          |grade a butterfly koi                                                          |/shop/en/petcostore/product/grade-a-butterfly-koi                                    |https://assets.petco.com/petco/image/upload/f_auto,q_auto,w_190/dpr_auto/1032135-center-1 |Grade A Butterfly Koi                                                          |[freshwater-fish-goldfish, live-pond-fish, pond-fish-koi-fish, freshwater-fish]                                                                                                                                                                                                                                                |[One Time Delivery]                                                       |[Petco Freshwater Fish]|NULL          |[Fish]          |\n",
            "|101077     |Fancy Male Guppy                                                               |fancy male guppy                                                               |/shop/en/petcostore/product/assorted-male-fancy-guppies                              |https://assets.petco.com/petco/image/upload/f_auto,q_auto,w_190/dpr_auto/1032070-center-11|Fancy Male Guppy                                                               |[freshwater-fish-guppies, community-schooling-freshwater-fish]                                                                                                                                                                                                                                                                 |[One Time Delivery]                                                       |[Petco Freshwater Fish]|NULL          |[Fish]          |\n",
            "|101078     |Calico Ryukin Goldfish                                                         |calico ryukin goldfish                                                         |/shop/en/petcostore/product/calico-ryukin-goldfish                                   |https://assets.petco.com/petco/image/upload/f_auto,q_auto,w_190/dpr_auto/3590528-center-1 |Calico Ryukin Goldfish                                                         |[freshwater-fish, freshwater-fish-goldfish, live-pond-fish]                                                                                                                                                                                                                                                                    |[One Time Delivery]                                                       |[Petco Freshwater Fish]|[Pond]        |[Fish]          |\n",
            "|101083     |Electric Yellow Cichlid                                                        |electric yellow cichlid                                                        |/shop/en/petcostore/product/electric-yellow-cichlid                                  |https://assets.petco.com/petco/image/upload/f_auto,q_auto,w_190/dpr_auto/3927792-center-1 |Electric Yellow Cichlid                                                        |[freshwater-cichlids, freshwater-fish]                                                                                                                                                                                                                                                                                         |[One Time Delivery]                                                       |[Petco Freshwater Fish]|[Cichlid]     |[Fish]          |\n",
            "+-----------+-------------------------------------------------------------------------------+-------------------------------------------------------------------------------+-------------------------------------------------------------------------------------+------------------------------------------------------------------------------------------+-------------------------------------------------------------------------------+-------------------------------------------------------------------------------------------------------------------------------------------------------------------------------------------------------------------------------------------------------------------------------------------------------------------------------+--------------------------------------------------------------------------+-----------------------+--------------+----------------+\n",
            "only showing top 20 rows\n",
            "\n"
          ]
        }
      ],
      "source": [
        "# Профильтруем датасет, развернув колонку метаданных и оставив только нужные метаданные и facets\n",
        "metadata = ['url', 'image_url', 'itemname', 'group_ids']\n",
        "facets = ['How to get it', 'Primary Brand', 'Pet Type', 'Primary Pet Type']\n",
        "data_items_cleaned = process_data.clean_data_items(data_items, metadata = metadata, facets = facets)\n",
        "data_items_cleaned.show(truncate=False)"
      ]
    },
    {
      "cell_type": "code",
      "execution_count": 13,
      "metadata": {
        "colab": {
          "base_uri": "https://localhost:8080/"
        },
        "id": "z1wCCsoacY4j",
        "outputId": "e1da6caf-e2cf-4838-dfd6-032341bbec22"
      },
      "outputs": [
        {
          "output_type": "stream",
          "name": "stdout",
          "text": [
            "Папка /content/drive/MyDrive/Colab Notebooks/diploma/data/cleaned_data/ уже существует.\n",
            "Датасет сохранён по пути /content/drive/MyDrive/Colab Notebooks/diploma/data/cleaned_data/data_items.\n"
          ]
        }
      ],
      "source": [
        "# Сохраним презентадельный вид датасета\n",
        "cleaned_data_folder_path = WORKING_DIRECTORY+'data/cleaned_data/'\n",
        "output_name = 'data_items'\n",
        "process_data.save_dataset_parquet(data_items_cleaned, cleaned_data_folder_path, output_name)"
      ]
    },
    {
      "cell_type": "code",
      "execution_count": 14,
      "metadata": {
        "id": "q2Gk6W3dcf4c"
      },
      "outputs": [],
      "source": [
        "# Приведем датасет к формату SASRec\n",
        "features = ['group_ids_intersect', 'How_to_get_it', 'Primary_Brand', 'Primary_Pet_Type']\n",
        "features_final_names = ['Category', 'Delivery', 'Brand', 'Pet']\n",
        "data_items_processed = process_data.items_to_sasrec_format(data_items_cleaned, features, features_final_names)\n",
        "# print(f\"Размер датасета: ({data_items_processed.count()}, {len(data_items_processed.columns)})\")\n",
        "# data_items_processed.show()"
      ]
    },
    {
      "cell_type": "code",
      "execution_count": 15,
      "metadata": {
        "id": "u-8n1vTbcl5a",
        "colab": {
          "base_uri": "https://localhost:8080/"
        },
        "outputId": "c425396c-c07f-42d7-a340-e5397a1e05bf"
      },
      "outputs": [
        {
          "output_type": "stream",
          "name": "stdout",
          "text": [
            "Папка /content/drive/MyDrive/Colab Notebooks/diploma/data/sasrec_format/ уже существует.\n",
            "Датасет сохранён по пути /content/drive/MyDrive/Colab Notebooks/diploma/data/sasrec_format/items.\n"
          ]
        }
      ],
      "source": [
        "# Сохраним датасет формата SASRec\n",
        "sasrec_data_folder_path = WORKING_DIRECTORY+'data/sasrec_format/'\n",
        "output_name = 'items'\n",
        "process_data.save_dataset_parquet(data_items_processed, sasrec_data_folder_path, output_name)\n",
        "# data_items_processed = spark.read.parquet(sasrec_data_folder_path+output_name)"
      ]
    },
    {
      "cell_type": "code",
      "execution_count": 16,
      "metadata": {
        "id": "-5fzH2__oBBS",
        "colab": {
          "base_uri": "https://localhost:8080/"
        },
        "outputId": "ca774709-53ff-4b9b-8674-f5b26ee2c9fe"
      },
      "outputs": [
        {
          "output_type": "stream",
          "name": "stdout",
          "text": [
            "✅ В датасете правильные колонки и у них правильные типы данных\n",
            "✅ В датасете нет пропущенных значений\n",
            "✅ Тест на множество товаров пройден\n"
          ]
        },
        {
          "output_type": "stream",
          "name": "stderr",
          "text": [
            "100%|██████████| 10/10 [25:45<00:00, 154.58s/it]"
          ]
        },
        {
          "output_type": "stream",
          "name": "stdout",
          "text": [
            "\n",
            "✅ Признаки товаров в датасете совпадают с каталогом\n"
          ]
        },
        {
          "output_type": "stream",
          "name": "stderr",
          "text": [
            "\n"
          ]
        }
      ],
      "source": [
        "# Проведем тесты на правильность сборки датасета для SASRec\n",
        "metadata_original_names = ['group_ids']\n",
        "facets_original_names = ['How to get it', 'Primary Brand', 'Primary Pet Type']\n",
        "features_final_names = ['Category', 'Delivery', 'Brand', 'Pet']\n",
        "test_items_sasrec(data_items_processed, data_items, metadata_original_names, facets_original_names, features_final_names)"
      ]
    },
    {
      "cell_type": "code",
      "source": [
        "common_tests_sasrec(df_actions=data_conversions_processed, df_items=data_items_processed)"
      ],
      "metadata": {
        "colab": {
          "base_uri": "https://localhost:8080/"
        },
        "id": "vuHNdywPZq2N",
        "outputId": "d94136e8-21bb-4fbe-a4b2-38c3fc6a00c9"
      },
      "execution_count": 17,
      "outputs": [
        {
          "output_type": "stream",
          "name": "stdout",
          "text": [
            "18640 32001\n",
            "✅ В финальном датасете товаров есть 99.9% всех необходимых товаров\n"
          ]
        }
      ]
    }
  ],
  "metadata": {
    "colab": {
      "provenance": []
    },
    "kernelspec": {
      "display_name": "Python 3",
      "name": "python3"
    },
    "language_info": {
      "name": "python"
    }
  },
  "nbformat": 4,
  "nbformat_minor": 0
}