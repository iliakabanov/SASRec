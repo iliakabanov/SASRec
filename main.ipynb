{
  "cells": [
    {
      "cell_type": "code",
      "execution_count": 1,
      "metadata": {
        "colab": {
          "base_uri": "https://localhost:8080/"
        },
        "id": "abgfwSe8SGua",
        "outputId": "f9d6a5a5-1161-4069-9d2f-7d4545af8d8f"
      },
      "outputs": [
        {
          "output_type": "stream",
          "name": "stdout",
          "text": [
            "Drive already mounted at /content/drive/; to attempt to forcibly remount, call drive.mount(\"/content/drive/\", force_remount=True).\n"
          ]
        }
      ],
      "source": [
        "# Get access to Google disk\n",
        "from google.colab import drive\n",
        "drive.mount('/content/drive/')"
      ]
    },
    {
      "cell_type": "code",
      "execution_count": 3,
      "metadata": {
        "id": "w6z47sb7Y1T-"
      },
      "outputs": [],
      "source": [
        "# Import libraries\n",
        "from pyspark.sql import SparkSession\n",
        "from pyspark.sql import functions as F\n",
        "import matplotlib.pyplot as plt\n",
        "import pandas as pd\n",
        "from pyspark.sql.functions import col\n",
        "from pyspark.sql.functions import to_timestamp\n",
        "import pyspark"
      ]
    },
    {
      "cell_type": "code",
      "source": [
        "%cd \"/content/drive/MyDrive/Colab Notebooks/diploma/scripts/\"\n",
        "import process_data"
      ],
      "metadata": {
        "colab": {
          "base_uri": "https://localhost:8080/"
        },
        "id": "iFCdVpTikuGw",
        "outputId": "c7a7182d-004e-4325-d537-fb7e9a0e8ba1"
      },
      "execution_count": 4,
      "outputs": [
        {
          "output_type": "stream",
          "name": "stdout",
          "text": [
            "/content/drive/MyDrive/Colab Notebooks/diploma/scripts\n"
          ]
        }
      ]
    },
    {
      "cell_type": "code",
      "execution_count": 5,
      "metadata": {
        "id": "QqQvRVZqY4VS"
      },
      "outputs": [],
      "source": [
        "# Создаём SparkSession\n",
        "spark = SparkSession.builder \\\n",
        "    .appName(\"PetCo\") \\\n",
        "    .getOrCreate()"
      ]
    },
    {
      "cell_type": "code",
      "execution_count": 6,
      "metadata": {
        "id": "V4BGeehhYtwi"
      },
      "outputs": [],
      "source": [
        "HEAD_DIRECTORY = '/content/drive/MyDrive/Colab Notebooks/diploma/'"
      ]
    },
    {
      "cell_type": "markdown",
      "source": [
        "# Приведем датасет с логами юзеров к формату для SASRec"
      ],
      "metadata": {
        "id": "_OCBk0fbjOnP"
      }
    },
    {
      "cell_type": "code",
      "execution_count": 7,
      "metadata": {
        "id": "A8vIaFUXYnJx"
      },
      "outputs": [],
      "source": [
        "# Read dataset with beh logs\n",
        "data_logs = spark.read.parquet(HEAD_DIRECTORY+'data/needed_beh_logs')\n",
        "# data_logs.show()"
      ]
    },
    {
      "cell_type": "code",
      "execution_count": 8,
      "metadata": {
        "colab": {
          "base_uri": "https://localhost:8080/"
        },
        "id": "zlQTLxNqaYgT",
        "outputId": "dac70819-75a4-44e7-c464-989d6ea7e2bb"
      },
      "outputs": [
        {
          "output_type": "stream",
          "name": "stdout",
          "text": [
            "Размер датасета: (449982, 4)\n",
            "+-------+-------+-------------------+------+\n",
            "|user_id|item_id|           datetime|weight|\n",
            "+-------+-------+-------------------+------+\n",
            "|  -1002|5181461|2024-06-14 15:17:25|     1|\n",
            "|  -1002|5206702|2024-06-14 15:19:15|     1|\n",
            "|  -1002|5119257|2024-06-14 15:21:21|     1|\n",
            "|  -1002|5107211|2024-06-28 19:06:10|     1|\n",
            "|  -1002|5008694|2024-07-01 18:43:40|     1|\n",
            "+-------+-------+-------------------+------+\n",
            "only showing top 5 rows\n",
            "\n"
          ]
        }
      ],
      "source": [
        "#  Отфильтруем датасет по нужному действию\n",
        "data_actions_cleaned = process_data.clean_data_actions(data_logs, 'conversion')\n",
        "# Теперь приведем датасет к формату SASRec\n",
        "data_actions_processed = process_data.actions_to_sasrec_format(data_actions_cleaned)\n",
        "print(f\"Размер датасета: ({data_actions_processed.count()}, {len(data_actions_processed.columns)})\")\n",
        "data_actions_processed.show(5)"
      ]
    },
    {
      "cell_type": "code",
      "execution_count": 9,
      "metadata": {
        "id": "1iNWcD66b3EW",
        "colab": {
          "base_uri": "https://localhost:8080/"
        },
        "outputId": "13ef35a9-58a7-4e41-a276-adff09767288"
      },
      "outputs": [
        {
          "output_type": "stream",
          "name": "stdout",
          "text": [
            "Папка /content/drive/MyDrive/Colab Notebooks/diploma/data/sasrec_format/ уже существует.\n",
            "Датасет сохранён по пути /content/drive/MyDrive/Colab Notebooks/diploma/data/sasrec_format/actions.\n"
          ]
        }
      ],
      "source": [
        "# Сохраним датасет формата SASRec\n",
        "sasrec_data_folder_path = HEAD_DIRECTORY+'data/sasrec_format/'\n",
        "output_name = 'actions'\n",
        "process_data.save_dataset_parquet(data_actions_processed, sasrec_data_folder_path, output_name)\n",
        "# data_actions_processed = spark.read.parquet(sasrec_data_folder_path+output_name)"
      ]
    },
    {
      "cell_type": "markdown",
      "source": [
        "# Приведем датасет с признаками товаров к формату SASRec"
      ],
      "metadata": {
        "id": "BimBi5hsjuDb"
      }
    },
    {
      "cell_type": "code",
      "execution_count": 10,
      "metadata": {
        "id": "XraXB-t6cCvn"
      },
      "outputs": [],
      "source": [
        "# Read dataset with items\n",
        "data_items = spark.read.parquet(HEAD_DIRECTORY+'data/data_set_items')\n",
        "# data_items.show()\n",
        "# Print metadata and facets columns\n",
        "# process_data.print_metadata(data_items)"
      ]
    },
    {
      "cell_type": "code",
      "execution_count": 11,
      "metadata": {
        "id": "q2Gk6W3dcf4c",
        "colab": {
          "base_uri": "https://localhost:8080/"
        },
        "outputId": "25a25397-7bba-4baf-de26-5632683632d6"
      },
      "outputs": [
        {
          "output_type": "stream",
          "name": "stdout",
          "text": [
            "Размер датасета: (223730, 3)\n",
            "+----+--------------------+--------+\n",
            "|  id|               value| feature|\n",
            "+----+--------------------+--------+\n",
            "|1697|                 API|   Brand|\n",
            "|1697|     betta-fish-shop|Category|\n",
            "|1697|fish-tank-salt-mixes|Category|\n",
            "|1697|     pond-water-care|Category|\n",
            "|1697|repeat-delivery-a...|Category|\n",
            "+----+--------------------+--------+\n",
            "only showing top 5 rows\n",
            "\n"
          ]
        }
      ],
      "source": [
        "# Профильтруем датасет, развернув колонку метаданных и оставив только нужные метаданные и facets\n",
        "metadata = ['url', 'image_url', 'itemname', 'group_ids']\n",
        "facets = ['How to get it', 'Primary Brand', 'Pet Type', 'Primary Pet Type']\n",
        "data_items_cleaned = process_data.clean_data_items(data_items, metadata = metadata, facets = facets)\n",
        "\n",
        "# Приведем датасет к формату SASRec\n",
        "features = ['group_ids_intersect', 'How_to_get_it', 'Primary_Brand', 'Primary_Pet_Type']\n",
        "features_final_names = ['Category', 'Delivery', 'Brand', 'Pet']\n",
        "data_items_processed = process_data.items_to_sasrec_format(data_items_cleaned, features, features_final_names)\n",
        "print(f\"Размер датасета: ({data_items_processed.count()}, {len(data_items_processed.columns)})\")\n",
        "data_items_processed.show(5)"
      ]
    },
    {
      "cell_type": "code",
      "execution_count": 12,
      "metadata": {
        "id": "u-8n1vTbcl5a",
        "colab": {
          "base_uri": "https://localhost:8080/"
        },
        "outputId": "6b73ecef-f9fd-4df4-a563-a3215d91936f"
      },
      "outputs": [
        {
          "output_type": "stream",
          "name": "stdout",
          "text": [
            "Папка /content/drive/MyDrive/Colab Notebooks/diploma/data/sasrec_format/ уже существует.\n",
            "Датасет сохранён по пути /content/drive/MyDrive/Colab Notebooks/diploma/data/sasrec_format/items.\n"
          ]
        }
      ],
      "source": [
        "# Сохраним датасет формата SASRec\n",
        "sasrec_data_folder_path = HEAD_DIRECTORY+'data/sasrec_format/'\n",
        "output_name = 'items'\n",
        "process_data.save_dataset_parquet(data_items_processed, sasrec_data_folder_path, output_name)\n",
        "# data_items_processed = spark.read.parquet(sasrec_data_folder_path+output_name)"
      ]
    },
    {
      "cell_type": "markdown",
      "source": [
        "# Проведем прямые и косвенные тесты на корректность собранных датасетов"
      ],
      "metadata": {
        "id": "mQu89E1EW8ct"
      }
    },
    {
      "cell_type": "code",
      "source": [
        "%cd \"/content/drive/MyDrive/Colab Notebooks/diploma/tests/tests_petco\"\n",
        "!pytest"
      ],
      "metadata": {
        "id": "cYWti6R70sEZ",
        "colab": {
          "base_uri": "https://localhost:8080/"
        },
        "outputId": "6fe75b20-c6c7-476c-f181-61edbd48cf8f"
      },
      "execution_count": 13,
      "outputs": [
        {
          "output_type": "stream",
          "name": "stdout",
          "text": [
            "/content/drive/MyDrive/Colab Notebooks/diploma/tests/tests_petco\n",
            "\u001b[1m======================================= test session starts ========================================\u001b[0m\n",
            "platform linux -- Python 3.11.11, pytest-8.3.5, pluggy-1.5.0\n",
            "rootdir: /content/drive/MyDrive/Colab Notebooks/diploma/tests/tests_petco\n",
            "plugins: typeguard-4.4.2, anyio-3.7.1, langsmith-0.3.13\n",
            "collected 11 items                                                                                 \u001b[0m\n",
            "\n",
            "test_petco_direct.py \u001b[32m.\u001b[0m\u001b[32m.\u001b[0m\u001b[32m                                                                      [ 18%]\u001b[0m\n",
            "test_petco_indirect.py \u001b[32m.\u001b[0m\u001b[32m.\u001b[0m\u001b[32m.\u001b[0m\u001b[32m.\u001b[0m\u001b[32m.\u001b[0m\u001b[32m.\u001b[0m\u001b[32m.\u001b[0m\u001b[32m.\u001b[0m\u001b[32m.\u001b[0m\u001b[32m                                                             [100%]\u001b[0m\n",
            "\n",
            "\u001b[32m================================== \u001b[32m\u001b[1m11 passed\u001b[0m\u001b[32m in 92.88s (0:01:32)\u001b[0m\u001b[32m ===================================\u001b[0m\n"
          ]
        }
      ]
    }
  ],
  "metadata": {
    "colab": {
      "provenance": []
    },
    "kernelspec": {
      "display_name": "Python 3",
      "name": "python3"
    },
    "language_info": {
      "name": "python"
    }
  },
  "nbformat": 4,
  "nbformat_minor": 0
}