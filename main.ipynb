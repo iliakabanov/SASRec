{
  "cells": [
    {
      "cell_type": "code",
      "execution_count": 1,
      "metadata": {
        "colab": {
          "base_uri": "https://localhost:8080/"
        },
        "id": "abgfwSe8SGua",
        "outputId": "9f8dab7c-e8e8-4e29-b1de-6d7819b66153"
      },
      "outputs": [
        {
          "output_type": "stream",
          "name": "stdout",
          "text": [
            "Drive already mounted at /content/drive/; to attempt to forcibly remount, call drive.mount(\"/content/drive/\", force_remount=True).\n"
          ]
        }
      ],
      "source": [
        "# Get access to Google disk\n",
        "from google.colab import drive\n",
        "drive.mount('/content/drive/')"
      ]
    },
    {
      "cell_type": "code",
      "execution_count": 2,
      "metadata": {
        "id": "w6z47sb7Y1T-"
      },
      "outputs": [],
      "source": [
        "# Import libraries\n",
        "from pyspark.sql import SparkSession\n",
        "from pyspark.sql import functions as F\n",
        "import matplotlib.pyplot as plt\n",
        "import pandas as pd\n",
        "from pyspark.sql.functions import col\n",
        "from pyspark.sql.functions import to_timestamp\n",
        "import pyspark"
      ]
    },
    {
      "cell_type": "code",
      "source": [
        "%cd \"/content/drive/MyDrive/Colab Notebooks/diploma/scripts/\"\n",
        "import process_data\n",
        "from tests_for_datasets import test_actions_sasrec, test_items_sasrec, common_tests_sasrec"
      ],
      "metadata": {
        "colab": {
          "base_uri": "https://localhost:8080/"
        },
        "id": "iFCdVpTikuGw",
        "outputId": "621dc5d6-1edc-47c7-bb32-cf9a5f2ef91d"
      },
      "execution_count": 3,
      "outputs": [
        {
          "output_type": "stream",
          "name": "stdout",
          "text": [
            "/content/drive/MyDrive/Colab Notebooks/diploma/scripts\n"
          ]
        }
      ]
    },
    {
      "cell_type": "code",
      "execution_count": 3,
      "metadata": {
        "id": "QqQvRVZqY4VS"
      },
      "outputs": [],
      "source": [
        "# Создаём SparkSession\n",
        "spark = SparkSession.builder \\\n",
        "    .appName(\"PetCo\") \\\n",
        "    .getOrCreate()"
      ]
    },
    {
      "cell_type": "code",
      "execution_count": null,
      "metadata": {
        "id": "V4BGeehhYtwi"
      },
      "outputs": [],
      "source": [
        "HEAD_DIRECTORY = '/content/drive/MyDrive/Colab Notebooks/diploma/'"
      ]
    },
    {
      "cell_type": "markdown",
      "source": [
        "# Приведем датасет с логами юзеров к формату для SASRec"
      ],
      "metadata": {
        "id": "_OCBk0fbjOnP"
      }
    },
    {
      "cell_type": "code",
      "execution_count": null,
      "metadata": {
        "id": "A8vIaFUXYnJx"
      },
      "outputs": [],
      "source": [
        "# Read dataset with beh logs\n",
        "data_logs = spark.read.parquet(HEAD_DIRECTORY+'data/needed_beh_logs')\n",
        "# data_logs.show()"
      ]
    },
    {
      "cell_type": "code",
      "execution_count": null,
      "metadata": {
        "colab": {
          "base_uri": "https://localhost:8080/"
        },
        "id": "zlQTLxNqaYgT",
        "outputId": "4195f340-d531-49b6-f962-ceeac745f3d0"
      },
      "outputs": [
        {
          "output_type": "stream",
          "name": "stdout",
          "text": [
            "Размер датасета: (449982, 4)\n",
            "+-------+-------+-------------------+------+\n",
            "|user_id|item_id|           datetime|weight|\n",
            "+-------+-------+-------------------+------+\n",
            "|  -1002|5181461|2024-06-14 15:17:25|     1|\n",
            "|  -1002|5206702|2024-06-14 15:19:15|     1|\n",
            "|  -1002|5119257|2024-06-14 15:21:21|     1|\n",
            "|  -1002|5107211|2024-06-28 19:06:10|     1|\n",
            "|  -1002|5008694|2024-07-01 18:43:40|     1|\n",
            "|  -1002|5181462|2024-07-17 10:11:22|     1|\n",
            "|  -1002|5000991|2024-07-17 10:12:30|     1|\n",
            "|  -1002|5000991|2024-07-17 10:19:52|     1|\n",
            "|  -1002|5080929|2024-07-20 21:55:22|     1|\n",
            "|  -1002|5183021|2024-07-25 17:05:36|     1|\n",
            "|  -1002|5183309|2024-07-30 17:02:31|     1|\n",
            "|  -1002|5142756|2024-08-14 17:22:13|     1|\n",
            "|  -1002|5206288|2024-08-17 14:32:32|     1|\n",
            "|  -1002|5181804|2024-08-21 01:23:02|     1|\n",
            "|  -1002|5118422|2024-09-24 15:09:21|     1|\n",
            "|  -1002|5180971|2024-10-03 15:14:02|     1|\n",
            "|  -1002|5180971|2024-10-03 15:14:52|     1|\n",
            "|  -1002|5180971|2024-10-03 15:15:16|     1|\n",
            "|  -1002|5180971|2024-10-03 15:16:19|     1|\n",
            "|  -1002|5180971|2024-10-03 15:36:49|     1|\n",
            "+-------+-------+-------------------+------+\n",
            "only showing top 20 rows\n",
            "\n"
          ]
        }
      ],
      "source": [
        "#  Отфильтруем датасет по нужному действию\n",
        "data_actions_cleaned = process_data.clean_data_actions(data_logs, 'conversion')\n",
        "# Теперь приведем датасет к формату SASRec\n",
        "data_actions_processed = process_data.actions_to_sasrec_format(data_actions_cleaned)\n",
        "print(f\"Размер датасета: ({data_actions_processed.count()}, {len(data_actions_processed.columns)})\")\n",
        "data_actions_processed.show()"
      ]
    },
    {
      "cell_type": "code",
      "execution_count": null,
      "metadata": {
        "id": "1iNWcD66b3EW"
      },
      "outputs": [],
      "source": [
        "# Сохраним датасет формата SASRec\n",
        "sasrec_data_folder_path = HEAD_DIRECTORY+'data/sasrec_format/'\n",
        "output_name = 'actions'\n",
        "# process_data.save_dataset_parquet(data_actions_processed, sasrec_data_folder_path, output_name)\n",
        "data_actions_processed = spark.read.parquet(sasrec_data_folder_path+output_name)"
      ]
    },
    {
      "cell_type": "markdown",
      "source": [
        "# Приведем датасет с признаками товаров к формату SASRec"
      ],
      "metadata": {
        "id": "BimBi5hsjuDb"
      }
    },
    {
      "cell_type": "code",
      "execution_count": null,
      "metadata": {
        "id": "XraXB-t6cCvn"
      },
      "outputs": [],
      "source": [
        "# Read dataset with items\n",
        "data_items = spark.read.parquet(HEAD_DIRECTORY+'data/data_set_items')\n",
        "# data_items.show()\n",
        "# Print metadata and facets columns\n",
        "# process_data.print_metadata(data_items)"
      ]
    },
    {
      "cell_type": "code",
      "execution_count": null,
      "metadata": {
        "id": "q2Gk6W3dcf4c"
      },
      "outputs": [],
      "source": [
        "# Профильтруем датасет, развернув колонку метаданных и оставив только нужные метаданные и facets\n",
        "metadata = ['url', 'image_url', 'itemname', 'group_ids']\n",
        "facets = ['How to get it', 'Primary Brand', 'Pet Type', 'Primary Pet Type']\n",
        "data_items_cleaned = process_data.clean_data_items(data_items, metadata = metadata, facets = facets)\n",
        "\n",
        "# # Приведем датасет к формату SASRec\n",
        "features = ['group_ids_intersect', 'How_to_get_it', 'Primary_Brand', 'Primary_Pet_Type']\n",
        "features_final_names = ['Category', 'Delivery', 'Brand', 'Pet']\n",
        "data_items_processed = process_data.items_to_sasrec_format(data_items_cleaned, features, features_final_names)\n",
        "# print(f\"Размер датасета: ({data_items_processed.count()}, {len(data_items_processed.columns)})\")\n",
        "# data_items_processed.show()"
      ]
    },
    {
      "cell_type": "code",
      "execution_count": null,
      "metadata": {
        "id": "u-8n1vTbcl5a"
      },
      "outputs": [],
      "source": [
        "# Сохраним датасет формата SASRec\n",
        "sasrec_data_folder_path = HEAD_DIRECTORY+'data/sasrec_format/'\n",
        "output_name = 'items'\n",
        "# process_data.save_dataset_parquet(data_items_processed, sasrec_data_folder_path, output_name)\n",
        "data_items_processed = spark.read.parquet(sasrec_data_folder_path+output_name)"
      ]
    },
    {
      "cell_type": "markdown",
      "source": [
        "# Проведем прямые и косвенные тесты на корректность собранных датасетов"
      ],
      "metadata": {
        "id": "mQu89E1EW8ct"
      }
    },
    {
      "cell_type": "code",
      "source": [
        "%cd \"/content/drive/MyDrive/Colab Notebooks/diploma/tests/tests_petco\"\n",
        "!pytest"
      ],
      "metadata": {
        "id": "cYWti6R70sEZ",
        "colab": {
          "base_uri": "https://localhost:8080/"
        },
        "outputId": "ca4381c9-ba98-431b-a727-47207b9c48b7"
      },
      "execution_count": 2,
      "outputs": [
        {
          "output_type": "stream",
          "name": "stdout",
          "text": [
            "/content/drive/MyDrive/Colab Notebooks/diploma/tests/tests_petco\n",
            "\u001b[1m======================================= test session starts ========================================\u001b[0m\n",
            "platform linux -- Python 3.11.11, pytest-8.3.5, pluggy-1.5.0\n",
            "rootdir: /content/drive/MyDrive/Colab Notebooks/diploma/tests/tests_petco\n",
            "plugins: typeguard-4.4.2, langsmith-0.3.13, anyio-3.7.1\n",
            "collected 11 items                                                                                 \u001b[0m\n",
            "\n",
            "test_petco_direct.py \u001b[32m.\u001b[0m\u001b[32m.\u001b[0m\u001b[32m                                                                      [ 18%]\u001b[0m\n",
            "test_petco_indirect.py \u001b[32m.\u001b[0m\u001b[32m.\u001b[0m\u001b[32m.\u001b[0m\u001b[32m.\u001b[0m\u001b[32m.\u001b[0m\u001b[32m.\u001b[0m\u001b[32m.\u001b[0m\u001b[32m.\u001b[0m\u001b[32m.\u001b[0m\u001b[32m                                                             [100%]\u001b[0m\n",
            "\n",
            "\u001b[32m================================== \u001b[32m\u001b[1m11 passed\u001b[0m\u001b[32m in 191.85s (0:03:11)\u001b[0m\u001b[32m ==================================\u001b[0m\n"
          ]
        }
      ]
    },
    {
      "cell_type": "code",
      "source": [],
      "metadata": {
        "id": "OyzomTqHe5YG"
      },
      "execution_count": null,
      "outputs": []
    }
  ],
  "metadata": {
    "colab": {
      "provenance": []
    },
    "kernelspec": {
      "display_name": "Python 3",
      "name": "python3"
    },
    "language_info": {
      "name": "python"
    }
  },
  "nbformat": 4,
  "nbformat_minor": 0
}