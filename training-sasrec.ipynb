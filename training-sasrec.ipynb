{
 "cells": [
  {
   "cell_type": "code",
   "execution_count": 1,
   "id": "0c194bdf",
   "metadata": {
    "execution": {
     "iopub.execute_input": "2025-04-17T09:38:40.325841Z",
     "iopub.status.busy": "2025-04-17T09:38:40.325285Z",
     "iopub.status.idle": "2025-04-17T09:38:40.329047Z",
     "shell.execute_reply": "2025-04-17T09:38:40.328357Z"
    },
    "papermill": {
     "duration": 0.010167,
     "end_time": "2025-04-17T09:38:40.330243",
     "exception": false,
     "start_time": "2025-04-17T09:38:40.320076",
     "status": "completed"
    },
    "tags": []
   },
   "outputs": [],
   "source": [
    "# !pip install rectools --ignore-installed --no-deps  # Сначала без зависимостей\n",
    "# !pip install implicit"
   ]
  },
  {
   "cell_type": "code",
   "execution_count": 2,
   "id": "b5dd2209",
   "metadata": {
    "execution": {
     "iopub.execute_input": "2025-04-17T09:38:40.338424Z",
     "iopub.status.busy": "2025-04-17T09:38:40.338069Z",
     "iopub.status.idle": "2025-04-17T09:39:13.895272Z",
     "shell.execute_reply": "2025-04-17T09:39:13.894697Z"
    },
    "papermill": {
     "duration": 33.562603,
     "end_time": "2025-04-17T09:39:13.896618",
     "exception": false,
     "start_time": "2025-04-17T09:38:40.334015",
     "status": "completed"
    },
    "tags": []
   },
   "outputs": [
    {
     "name": "stderr",
     "output_type": "stream",
     "text": [
      "2025-04-17 09:38:57.937979: E external/local_xla/xla/stream_executor/cuda/cuda_fft.cc:477] Unable to register cuFFT factory: Attempting to register factory for plugin cuFFT when one has already been registered\n",
      "WARNING: All log messages before absl::InitializeLog() is called are written to STDERR\n",
      "E0000 00:00:1744882738.124642      19 cuda_dnn.cc:8310] Unable to register cuDNN factory: Attempting to register factory for plugin cuDNN when one has already been registered\n",
      "E0000 00:00:1744882738.180123      19 cuda_blas.cc:1418] Unable to register cuBLAS factory: Attempting to register factory for plugin cuBLAS when one has already been registered\n"
     ]
    }
   ],
   "source": [
    "# Standard library imports\n",
    "import os\n",
    "import re\n",
    "import pickle\n",
    "import warnings\n",
    "import textwrap\n",
    "from pathlib import Path\n",
    "from collections import Counter\n",
    "from itertools import chain\n",
    "from typing import (List, Dict, Optional, Tuple, Union, Any,\n",
    "                   TypeVar, Callable, Iterable)\n",
    "from urllib.request import urlopen\n",
    "from io import BytesIO\n",
    "import itertools\n",
    "\n",
    "# Third-party general imports\n",
    "import numpy as np\n",
    "import pandas as pd\n",
    "import matplotlib.pyplot as plt\n",
    "import seaborn as sns\n",
    "import plotly.express as px\n",
    "from tqdm import tqdm\n",
    "import threadpoolctl\n",
    "\n",
    "# Machine learning and data processing\n",
    "from sklearn.preprocessing import (StandardScaler, MultiLabelBinarizer,\n",
    "                                 normalize)\n",
    "from sklearn.cluster import (DBSCAN, AgglomerativeClustering)\n",
    "from sklearn.manifold import TSNE\n",
    "from scipy.spatial.distance import euclidean\n",
    "from scipy import sparse\n",
    "from scipy.sparse import hstack, csr_matrix\n",
    "\n",
    "# Deep learning and NLP\n",
    "import torch\n",
    "from sentence_transformers import SentenceTransformer\n",
    "import timm\n",
    "\n",
    "# Image processing\n",
    "from PIL import Image\n",
    "import requests\n",
    "\n",
    "# Spark\n",
    "import pyspark\n",
    "from pyspark.sql import SparkSession, functions as F\n",
    "from pyspark.sql.functions import col, to_timestamp\n",
    "\n",
    "# Jupyter specific\n",
    "from IPython.display import display, Markdown\n",
    "\n",
    "# Suppress warnings\n",
    "warnings.filterwarnings(\"ignore\")"
   ]
  },
  {
   "cell_type": "code",
   "execution_count": 3,
   "id": "40a6859a",
   "metadata": {
    "execution": {
     "iopub.execute_input": "2025-04-17T09:39:13.905099Z",
     "iopub.status.busy": "2025-04-17T09:39:13.904881Z",
     "iopub.status.idle": "2025-04-17T09:39:15.631706Z",
     "shell.execute_reply": "2025-04-17T09:39:15.630763Z"
    },
    "papermill": {
     "duration": 1.732259,
     "end_time": "2025-04-17T09:39:15.632838",
     "exception": true,
     "start_time": "2025-04-17T09:39:13.900579",
     "status": "failed"
    },
    "tags": []
   },
   "outputs": [
    {
     "ename": "ModuleNotFoundError",
     "evalue": "No module named 'rectools'",
     "output_type": "error",
     "traceback": [
      "\u001b[0;31m---------------------------------------------------------------------------\u001b[0m",
      "\u001b[0;31mModuleNotFoundError\u001b[0m                       Traceback (most recent call last)",
      "\u001b[0;32m/tmp/ipykernel_19/3776678115.py\u001b[0m in \u001b[0;36m<cell line: 0>\u001b[0;34m()\u001b[0m\n\u001b[1;32m      5\u001b[0m \u001b[0;32mfrom\u001b[0m \u001b[0mpytorch_lightning\u001b[0m\u001b[0;34m.\u001b[0m\u001b[0mcallbacks\u001b[0m \u001b[0;32mimport\u001b[0m \u001b[0mEarlyStopping\u001b[0m\u001b[0;34m,\u001b[0m \u001b[0mModelCheckpoint\u001b[0m\u001b[0;34m,\u001b[0m \u001b[0mCallback\u001b[0m\u001b[0;34m\u001b[0m\u001b[0;34m\u001b[0m\u001b[0m\n\u001b[1;32m      6\u001b[0m \u001b[0;34m\u001b[0m\u001b[0m\n\u001b[0;32m----> 7\u001b[0;31m \u001b[0;32mimport\u001b[0m \u001b[0mrectools\u001b[0m\u001b[0;34m\u001b[0m\u001b[0;34m\u001b[0m\u001b[0m\n\u001b[0m\u001b[1;32m      8\u001b[0m \u001b[0;32mfrom\u001b[0m \u001b[0mrectools\u001b[0m \u001b[0;32mimport\u001b[0m \u001b[0mColumns\u001b[0m\u001b[0;34m,\u001b[0m \u001b[0mExternalIds\u001b[0m\u001b[0;34m\u001b[0m\u001b[0;34m\u001b[0m\u001b[0m\n\u001b[1;32m      9\u001b[0m \u001b[0;32mfrom\u001b[0m \u001b[0mrectools\u001b[0m\u001b[0;34m.\u001b[0m\u001b[0mdataset\u001b[0m \u001b[0;32mimport\u001b[0m \u001b[0mDataset\u001b[0m\u001b[0;34m\u001b[0m\u001b[0;34m\u001b[0m\u001b[0m\n",
      "\u001b[0;31mModuleNotFoundError\u001b[0m: No module named 'rectools'"
     ]
    }
   ],
   "source": [
    "# Import libraries\n",
    "from lightning_fabric import seed_everything\n",
    "from pytorch_lightning import Trainer, LightningModule\n",
    "from pytorch_lightning.loggers import CSVLogger\n",
    "from pytorch_lightning.callbacks import EarlyStopping, ModelCheckpoint, Callback\n",
    "\n",
    "import rectools\n",
    "from rectools import Columns, ExternalIds\n",
    "from rectools.dataset import Dataset\n",
    "from rectools.metrics import NDCG, Recall, Serendipity, calc_metrics\n",
    "from rectools.models import BERT4RecModel, SASRecModel, load_model, PopularInCategoryModel\n",
    "from implicit.cpu.bpr import BayesianPersonalizedRanking\n",
    "from rectools.models.implicit_bpr import ImplicitBPRWrapperModel\n",
    "from implicit.cpu.als import AlternatingLeastSquares\n",
    "from rectools.models.implicit_als import ImplicitALSWrapperModel\n",
    "from rectools.models.nn.item_net import IdEmbeddingsItemNet\n",
    "from rectools.models.nn.transformers.base import TransformerModelBase\n",
    "\n",
    "from rectools import Columns\n",
    "from rectools.dataset import Dataset\n",
    "from rectools.metrics import (\n",
    "    MAP,\n",
    "    CoveredUsers,\n",
    "    AvgRecPopularity,\n",
    "    Intersection,\n",
    "    HitRate,\n",
    "    Serendipity,\n",
    ")\n",
    "from rectools.models import PopularModel, EASEModel, SASRecModel, BERT4RecModel\n",
    "from rectools.model_selection import TimeRangeSplitter, cross_validate\n",
    "from rectools.models.nn.item_net import CatFeaturesItemNet, IdEmbeddingsItemNet\n",
    "from rectools.visuals import MetricsApp\n",
    "\n",
    "warnings.simplefilter(\"ignore\")\n",
    "\n",
    "# Enable deterministic behaviour with CUDA >= 10.2\n",
    "os.environ[\"CUBLAS_WORKSPACE_CONFIG\"] = \":4096:8\"\n",
    "\n",
    "# Random seed\n",
    "RANDOM_STATE=60\n",
    "torch.use_deterministic_algorithms(True)\n",
    "seed_everything(RANDOM_STATE, workers=True)"
   ]
  },
  {
   "cell_type": "code",
   "execution_count": null,
   "id": "7829581a",
   "metadata": {
    "execution": {
     "iopub.execute_input": "2025-04-17T08:21:19.447914Z",
     "iopub.status.busy": "2025-04-17T08:21:19.446325Z",
     "iopub.status.idle": "2025-04-17T08:21:19.451353Z",
     "shell.execute_reply": "2025-04-17T08:21:19.450642Z",
     "shell.execute_reply.started": "2025-04-17T08:21:19.447890Z"
    },
    "papermill": {
     "duration": null,
     "end_time": null,
     "exception": null,
     "start_time": null,
     "status": "pending"
    },
    "tags": []
   },
   "outputs": [],
   "source": [
    "HEAD_DIRECTORY = '/kaggle/'"
   ]
  },
  {
   "cell_type": "markdown",
   "id": "259b2895",
   "metadata": {
    "papermill": {
     "duration": null,
     "end_time": null,
     "exception": null,
     "start_time": null,
     "status": "pending"
    },
    "tags": []
   },
   "source": [
    "# **Функции**"
   ]
  },
  {
   "cell_type": "code",
   "execution_count": null,
   "id": "59bae6fa",
   "metadata": {
    "execution": {
     "iopub.execute_input": "2025-04-17T08:34:48.799871Z",
     "iopub.status.busy": "2025-04-17T08:34:48.799627Z",
     "iopub.status.idle": "2025-04-17T08:34:48.804513Z",
     "shell.execute_reply": "2025-04-17T08:34:48.803926Z",
     "shell.execute_reply.started": "2025-04-17T08:34:48.799855Z"
    },
    "papermill": {
     "duration": null,
     "end_time": null,
     "exception": null,
     "start_time": null,
     "status": "pending"
    },
    "tags": []
   },
   "outputs": [],
   "source": [
    "# Implement `get_val_mask_func`\n",
    "def mask_last_k_for_users(interactions: pd.DataFrame, k: int):\n",
    "    users_masks = []\n",
    "    for user_len in np.unique(interactions['user_id'], return_counts=True)[1]:\n",
    "        false_user_len = user_len - k\n",
    "        true_user_len = k\n",
    "        user_masks = [False]*false_user_len + [True]*true_user_len\n",
    "        users_masks += user_masks\n",
    "    return np.array(users_masks)    \n",
    "\n",
    "\n",
    "# We do not use `partial` for correct serialization of the model\n",
    "def get_val_mask_func(interactions: pd.DataFrame):\n",
    "    return mask_last_k_for_users(interactions, k=1)"
   ]
  },
  {
   "cell_type": "code",
   "execution_count": null,
   "id": "83b15ecd",
   "metadata": {
    "execution": {
     "iopub.execute_input": "2025-04-17T08:24:04.043702Z",
     "iopub.status.busy": "2025-04-17T08:24:04.043073Z",
     "iopub.status.idle": "2025-04-17T08:24:04.053153Z",
     "shell.execute_reply": "2025-04-17T08:24:04.052510Z",
     "shell.execute_reply.started": "2025-04-17T08:24:04.043678Z"
    },
    "papermill": {
     "duration": null,
     "end_time": null,
     "exception": null,
     "start_time": null,
     "status": "pending"
    },
    "tags": []
   },
   "outputs": [],
   "source": [
    "# Implement custom Callback for RecTools metrics computation within validation epochs during training.\n",
    "\n",
    "class ValidationMetrics(Callback):\n",
    "\n",
    "    def __init__(self, top_k: int, val_metrics, verbose: int = 0) -> None:\n",
    "        self.top_k = top_k\n",
    "        self.val_metrics = val_metrics\n",
    "        self.verbose = verbose\n",
    "\n",
    "        self.epoch_n_users: int = 0\n",
    "        self.batch_metrics: tp.List[tp.Dict[str, float]] = []\n",
    "\n",
    "    def on_validation_batch_end(\n",
    "        self,\n",
    "        trainer: Trainer,\n",
    "        pl_module: LightningModule,\n",
    "        outputs,\n",
    "        batch,\n",
    "        batch_idx: int,\n",
    "        dataloader_idx: int = 0\n",
    "    ) -> None:\n",
    "        logits = outputs[\"logits\"]\n",
    "        if logits is None:\n",
    "            logits = pl_module.torch_model.encode_sessions(batch[\"x\"], pl_module.item_embs)[:, -1, :]\n",
    "        _, sorted_batch_recos = logits.topk(k=self.top_k)\n",
    "\n",
    "        batch_recos = sorted_batch_recos.tolist()\n",
    "        targets = batch[\"y\"].tolist()\n",
    "\n",
    "        batch_val_users = list(\n",
    "            itertools.chain.from_iterable(\n",
    "                itertools.repeat(idx, len(recos)) for idx, recos in enumerate(batch_recos)\n",
    "            )\n",
    "        )\n",
    "\n",
    "        batch_target_users = list(\n",
    "            itertools.chain.from_iterable(\n",
    "                itertools.repeat(idx, len(targets)) for idx, targets in enumerate(targets)\n",
    "            )\n",
    "        )\n",
    "\n",
    "        batch_recos_df = pd.DataFrame(\n",
    "            {\n",
    "                Columns.User: batch_val_users,\n",
    "                Columns.Item: list(itertools.chain.from_iterable(batch_recos)),\n",
    "            }\n",
    "        )\n",
    "        batch_recos_df[Columns.Rank] = batch_recos_df.groupby(Columns.User, sort=False).cumcount() + 1\n",
    "\n",
    "        interactions = pd.DataFrame(\n",
    "            {\n",
    "                Columns.User: batch_target_users,\n",
    "                Columns.Item: list(itertools.chain.from_iterable(targets)),\n",
    "            }\n",
    "        )\n",
    "\n",
    "        prev_interactions = pl_module.data_preparator.train_dataset.interactions.df\n",
    "        catalog = prev_interactions[Columns.Item].unique()\n",
    "\n",
    "        batch_metrics = calc_metrics(\n",
    "            self.val_metrics,\n",
    "            batch_recos_df,\n",
    "            interactions,\n",
    "            prev_interactions,\n",
    "            catalog\n",
    "        )\n",
    "\n",
    "        batch_n_users = batch[\"x\"].shape[0]\n",
    "        self.batch_metrics.append({metric: value * batch_n_users for metric, value in batch_metrics.items()})\n",
    "        self.epoch_n_users += batch_n_users\n",
    "\n",
    "    def on_validation_epoch_end(self, trainer: Trainer, pl_module: LightningModule) -> None:\n",
    "        epoch_metrics = dict(sum(map(Counter, self.batch_metrics), Counter()))\n",
    "        epoch_metrics = {metric: value / self.epoch_n_users for metric, value in epoch_metrics.items()}\n",
    "\n",
    "        self.log_dict(epoch_metrics, on_step=False, on_epoch=True, prog_bar=self.verbose > 0)\n",
    "\n",
    "        self.batch_metrics.clear()\n",
    "        self.epoch_n_users = 0"
   ]
  },
  {
   "cell_type": "code",
   "execution_count": null,
   "id": "ab49e009",
   "metadata": {
    "execution": {
     "iopub.execute_input": "2025-04-17T08:47:28.080343Z",
     "iopub.status.busy": "2025-04-17T08:47:28.080008Z",
     "iopub.status.idle": "2025-04-17T08:47:28.096727Z",
     "shell.execute_reply": "2025-04-17T08:47:28.096166Z",
     "shell.execute_reply.started": "2025-04-17T08:47:28.080324Z"
    },
    "papermill": {
     "duration": null,
     "end_time": null,
     "exception": null,
     "start_time": null,
     "status": "pending"
    },
    "tags": []
   },
   "outputs": [],
   "source": [
    "def get_logs(model: TransformerModelBase):\n",
    "    log_path = Path(model.fit_trainer.log_dir) / \"metrics.csv\"\n",
    "    epoch_metrics_df = pd.read_csv(log_path)\n",
    "\n",
    "    loss_df = epoch_metrics_df[[\"epoch\", \"train_loss\"]].dropna()\n",
    "    val_loss_df = epoch_metrics_df[[\"epoch\", \"val_loss\"]].dropna()\n",
    "    loss_df = pd.merge(loss_df, val_loss_df, how=\"inner\", on=\"epoch\")\n",
    "    loss_df.reset_index(drop=True, inplace=True)\n",
    "\n",
    "    metrics_df = epoch_metrics_df.drop(columns=[\"train_loss\", \"val_loss\"]).dropna()\n",
    "    metrics_df.reset_index(drop=True, inplace=True)\n",
    "\n",
    "    return loss_df, metrics_df"
   ]
  },
  {
   "cell_type": "markdown",
   "id": "635dcdd5",
   "metadata": {
    "papermill": {
     "duration": null,
     "end_time": null,
     "exception": null,
     "start_time": null,
     "status": "pending"
    },
    "tags": []
   },
   "source": [
    "# **Данные**"
   ]
  },
  {
   "cell_type": "code",
   "execution_count": null,
   "id": "08fe1a33",
   "metadata": {
    "execution": {
     "iopub.execute_input": "2025-04-17T08:21:30.378670Z",
     "iopub.status.busy": "2025-04-17T08:21:30.378371Z",
     "iopub.status.idle": "2025-04-17T08:21:30.837506Z",
     "shell.execute_reply": "2025-04-17T08:21:30.836713Z",
     "shell.execute_reply.started": "2025-04-17T08:21:30.378645Z"
    },
    "papermill": {
     "duration": null,
     "end_time": null,
     "exception": null,
     "start_time": null,
     "status": "pending"
    },
    "tags": []
   },
   "outputs": [],
   "source": [
    "actions = pd.read_pickle(HEAD_DIRECTORY+'input/sasrec-format/actions.pkl')\n",
    "items = pd.read_pickle(HEAD_DIRECTORY+'input/sasrec-format/items.pkl')\n",
    "catalog = pd.read_pickle(HEAD_DIRECTORY+'input/sasrec-format/catalog.pkl')"
   ]
  },
  {
   "cell_type": "code",
   "execution_count": null,
   "id": "8a3b5a82",
   "metadata": {
    "execution": {
     "iopub.execute_input": "2025-04-17T08:31:22.040009Z",
     "iopub.status.busy": "2025-04-17T08:31:22.039745Z",
     "iopub.status.idle": "2025-04-17T08:31:22.320069Z",
     "shell.execute_reply": "2025-04-17T08:31:22.319450Z",
     "shell.execute_reply.started": "2025-04-17T08:31:22.039991Z"
    },
    "papermill": {
     "duration": null,
     "end_time": null,
     "exception": null,
     "start_time": null,
     "status": "pending"
    },
    "tags": []
   },
   "outputs": [],
   "source": [
    "# В тестовый датасет откладываем последнее действие для каждого юзера\n",
    "test_df = actions.loc[actions.groupby(\"user_id\")[\"datetime\"].idxmax()]\n",
    "\n",
    "# Обучающий датасет – все, кроме последней итерации у каждого пользователя\n",
    "train_df = actions.drop(test_df.index)"
   ]
  },
  {
   "cell_type": "code",
   "execution_count": null,
   "id": "35ad6b50",
   "metadata": {
    "execution": {
     "iopub.execute_input": "2025-04-17T09:25:21.556932Z",
     "iopub.status.busy": "2025-04-17T09:25:21.556618Z",
     "iopub.status.idle": "2025-04-17T09:25:21.712426Z",
     "shell.execute_reply": "2025-04-17T09:25:21.711867Z",
     "shell.execute_reply.started": "2025-04-17T09:25:21.556911Z"
    },
    "papermill": {
     "duration": null,
     "end_time": null,
     "exception": null,
     "start_time": null,
     "status": "pending"
    },
    "tags": []
   },
   "outputs": [],
   "source": [
    "# Construct train dataset\n",
    "features_names = ['Category', 'Delivery', 'Brand', 'Pet']\n",
    "train_dataset = Dataset.construct(\n",
    "    interactions_df=train_df,\n",
    "    item_features_df=items,\n",
    "    cat_item_features=features_names,\n",
    ")"
   ]
  },
  {
   "cell_type": "markdown",
   "id": "fea37c3d",
   "metadata": {
    "papermill": {
     "duration": null,
     "end_time": null,
     "exception": null,
     "start_time": null,
     "status": "pending"
    },
    "tags": []
   },
   "source": [
    "# **Модель**"
   ]
  },
  {
   "cell_type": "code",
   "execution_count": null,
   "id": "8d5f10e9",
   "metadata": {
    "execution": {
     "iopub.execute_input": "2025-04-17T08:34:28.096865Z",
     "iopub.status.busy": "2025-04-17T08:34:28.096145Z",
     "iopub.status.idle": "2025-04-17T08:34:28.117775Z",
     "shell.execute_reply": "2025-04-17T08:34:28.117221Z",
     "shell.execute_reply.started": "2025-04-17T08:34:28.096843Z"
    },
    "papermill": {
     "duration": null,
     "end_time": null,
     "exception": null,
     "start_time": null,
     "status": "pending"
    },
    "tags": []
   },
   "outputs": [],
   "source": [
    "# Initialize callbacks for metrics calculation and checkpoint based on NDCG value\n",
    "\n",
    "metrics = {\n",
    "    \"NDCG@5\": NDCG(k=5),\n",
    "    \"Recall@5\": Recall(k=5),\n",
    "    \"Serendipity@5\": Serendipity(k=5),\n",
    "}\n",
    "top_k = max([metric.k for metric in metrics.values()])\n",
    "\n",
    "# Callback for calculating RecSys metrics\n",
    "val_metrics_callback = ValidationMetrics(top_k=top_k, val_metrics=metrics, verbose=0)\n",
    "\n",
    "# Callback for checkpoint based on maximization of NDCG@5\n",
    "best_ndcg_ckpt = ModelCheckpoint(\n",
    "    monitor=\"NDCG@5\",\n",
    "    mode=\"max\",\n",
    "    filename=\"{epoch}-{NDCG@5:.2f}\",\n",
    ")\n",
    "\n",
    "# Checkpoint last epoch\n",
    "last_epoch_ckpt = ModelCheckpoint(filename=\"last_epoch\")"
   ]
  },
  {
   "cell_type": "code",
   "execution_count": null,
   "id": "40fc4f69",
   "metadata": {
    "execution": {
     "iopub.execute_input": "2025-04-17T08:35:09.995317Z",
     "iopub.status.busy": "2025-04-17T08:35:09.994711Z",
     "iopub.status.idle": "2025-04-17T08:35:10.036749Z",
     "shell.execute_reply": "2025-04-17T08:35:10.036242Z",
     "shell.execute_reply.started": "2025-04-17T08:35:09.995296Z"
    },
    "papermill": {
     "duration": null,
     "end_time": null,
     "exception": null,
     "start_time": null,
     "status": "pending"
    },
    "tags": []
   },
   "outputs": [],
   "source": [
    "model = SASRecModel(\n",
    "    deterministic=True,\n",
    "    loss=\"softmax\",\n",
    "    item_net_block_types=(IdEmbeddingsItemNet, CatFeaturesItemNet),  # Use item ids and cat features\n",
    "    get_val_mask_func=get_val_mask_func\n",
    ")"
   ]
  },
  {
   "cell_type": "code",
   "execution_count": null,
   "id": "644e481b",
   "metadata": {
    "execution": {
     "iopub.execute_input": "2025-04-17T08:37:46.188110Z",
     "iopub.status.busy": "2025-04-17T08:37:46.187825Z",
     "iopub.status.idle": "2025-04-17T08:47:28.078779Z",
     "shell.execute_reply": "2025-04-17T08:47:28.078007Z",
     "shell.execute_reply.started": "2025-04-17T08:37:46.188090Z"
    },
    "papermill": {
     "duration": null,
     "end_time": null,
     "exception": null,
     "start_time": null,
     "status": "pending"
    },
    "tags": []
   },
   "outputs": [],
   "source": [
    "trainer = Trainer(\n",
    "    accelerator=\"gpu\",\n",
    "    # devices=1,\n",
    "    min_epochs=2,\n",
    "    max_epochs=500,\n",
    "    deterministic=True,\n",
    "    limit_train_batches=2,  # use only 2 batches for each epoch for a test run\n",
    "    callbacks=[val_metrics_callback, best_ndcg_ckpt, last_epoch_ckpt],  # pass our callbacks\n",
    "    check_val_every_n_epoch=10,\n",
    "    logger = CSVLogger(save_dir='/kaggle/working/'),\n",
    "    enable_progress_bar=True,\n",
    "    enable_model_summary=True,\n",
    ")\n",
    "\n",
    "# Replace trainer with our custom one\n",
    "model._trainer = trainer\n",
    "\n",
    "# Fit model. Everything will happen under the hood\n",
    "model.fit(train_dataset)"
   ]
  },
  {
   "cell_type": "code",
   "execution_count": null,
   "id": "539ec3ef",
   "metadata": {
    "execution": {
     "iopub.execute_input": "2025-04-17T08:48:07.755361Z",
     "iopub.status.busy": "2025-04-17T08:48:07.754643Z",
     "iopub.status.idle": "2025-04-17T08:48:07.764990Z",
     "shell.execute_reply": "2025-04-17T08:48:07.764381Z",
     "shell.execute_reply.started": "2025-04-17T08:48:07.755337Z"
    },
    "papermill": {
     "duration": null,
     "end_time": null,
     "exception": null,
     "start_time": null,
     "status": "pending"
    },
    "tags": []
   },
   "outputs": [],
   "source": [
    "loss_df, metrics_df = get_logs(model)"
   ]
  },
  {
   "cell_type": "code",
   "execution_count": null,
   "id": "f9f48b75",
   "metadata": {
    "execution": {
     "iopub.execute_input": "2025-04-17T08:48:09.795724Z",
     "iopub.status.busy": "2025-04-17T08:48:09.795459Z",
     "iopub.status.idle": "2025-04-17T08:48:10.088679Z",
     "shell.execute_reply": "2025-04-17T08:48:10.087913Z",
     "shell.execute_reply.started": "2025-04-17T08:48:09.795705Z"
    },
    "papermill": {
     "duration": null,
     "end_time": null,
     "exception": null,
     "start_time": null,
     "status": "pending"
    },
    "tags": []
   },
   "outputs": [],
   "source": [
    "loss_df.plot(kind=\"line\", x=\"epoch\", title=\"Losses\")"
   ]
  },
  {
   "cell_type": "code",
   "execution_count": null,
   "id": "036303af",
   "metadata": {
    "execution": {
     "iopub.execute_input": "2025-04-17T08:48:19.720437Z",
     "iopub.status.busy": "2025-04-17T08:48:19.720044Z",
     "iopub.status.idle": "2025-04-17T08:48:19.918588Z",
     "shell.execute_reply": "2025-04-17T08:48:19.917873Z",
     "shell.execute_reply.started": "2025-04-17T08:48:19.720414Z"
    },
    "papermill": {
     "duration": null,
     "end_time": null,
     "exception": null,
     "start_time": null,
     "status": "pending"
    },
    "tags": []
   },
   "outputs": [],
   "source": [
    "metrics_df[[\"epoch\", \"NDCG@5\"]].plot(kind=\"line\", x=\"epoch\", title=\"NDCG\")"
   ]
  },
  {
   "cell_type": "code",
   "execution_count": null,
   "id": "491cdc12",
   "metadata": {
    "execution": {
     "iopub.execute_input": "2025-04-17T09:34:52.561498Z",
     "iopub.status.busy": "2025-04-17T09:34:52.561266Z",
     "iopub.status.idle": "2025-04-17T09:34:55.602751Z",
     "shell.execute_reply": "2025-04-17T09:34:55.602027Z",
     "shell.execute_reply.started": "2025-04-17T09:34:52.561483Z"
    },
    "papermill": {
     "duration": null,
     "end_time": null,
     "exception": null,
     "start_time": null,
     "status": "pending"
    },
    "tags": []
   },
   "outputs": [],
   "source": [
    "user_counts = train_df['user_id'].value_counts()\n",
    "TEST_USERS = user_counts[user_counts >= 3].index\n",
    "recos = model.recommend(TEST_USERS, train_dataset, k=10, filter_viewed=False)\n",
    "Recall(k=5).calc(reco=recos, interactions=test_df)"
   ]
  },
  {
   "cell_type": "code",
   "execution_count": null,
   "id": "0effbe4f",
   "metadata": {
    "execution": {
     "iopub.execute_input": "2025-04-17T09:35:43.477777Z",
     "iopub.status.busy": "2025-04-17T09:35:43.477508Z",
     "iopub.status.idle": "2025-04-17T09:35:43.485276Z",
     "shell.execute_reply": "2025-04-17T09:35:43.484690Z",
     "shell.execute_reply.started": "2025-04-17T09:35:43.477760Z"
    },
    "papermill": {
     "duration": null,
     "end_time": null,
     "exception": null,
     "start_time": null,
     "status": "pending"
    },
    "tags": []
   },
   "outputs": [],
   "source": [
    "recos.to_pickle('/kaggle/working/lightning_logs/version_2/recos.pkl')"
   ]
  },
  {
   "cell_type": "code",
   "execution_count": null,
   "id": "53b0173e",
   "metadata": {
    "execution": {
     "iopub.execute_input": "2025-04-17T09:35:54.500940Z",
     "iopub.status.busy": "2025-04-17T09:35:54.500667Z",
     "iopub.status.idle": "2025-04-17T09:35:54.505879Z",
     "shell.execute_reply": "2025-04-17T09:35:54.505248Z",
     "shell.execute_reply.started": "2025-04-17T09:35:54.500919Z"
    },
    "papermill": {
     "duration": null,
     "end_time": null,
     "exception": null,
     "start_time": null,
     "status": "pending"
    },
    "tags": []
   },
   "outputs": [],
   "source": [
    "for dirname, _, filenames in os.walk('/kaggle/working'):\n",
    "    for filename in filenames:\n",
    "        print(os.path.join(dirname, filename))"
   ]
  },
  {
   "cell_type": "markdown",
   "id": "dc377ac1",
   "metadata": {
    "papermill": {
     "duration": null,
     "end_time": null,
     "exception": null,
     "start_time": null,
     "status": "pending"
    },
    "tags": []
   },
   "source": [
    "# **Экспорт модели**"
   ]
  },
  {
   "cell_type": "code",
   "execution_count": null,
   "id": "de0dbba5",
   "metadata": {
    "execution": {
     "iopub.execute_input": "2025-04-17T09:05:53.363842Z",
     "iopub.status.busy": "2025-04-17T09:05:53.363537Z",
     "iopub.status.idle": "2025-04-17T09:06:00.523152Z",
     "shell.execute_reply": "2025-04-17T09:06:00.522310Z",
     "shell.execute_reply.started": "2025-04-17T09:05:53.363818Z"
    },
    "papermill": {
     "duration": null,
     "end_time": null,
     "exception": null,
     "start_time": null,
     "status": "pending"
    },
    "tags": []
   },
   "outputs": [],
   "source": [
    "!zip -r version_2.zip /kaggle/working/lightning_logs/version_2"
   ]
  },
  {
   "cell_type": "code",
   "execution_count": null,
   "id": "4a618039",
   "metadata": {
    "execution": {
     "iopub.execute_input": "2025-04-17T09:06:27.385531Z",
     "iopub.status.busy": "2025-04-17T09:06:27.384882Z",
     "iopub.status.idle": "2025-04-17T09:06:27.390831Z",
     "shell.execute_reply": "2025-04-17T09:06:27.390213Z",
     "shell.execute_reply.started": "2025-04-17T09:06:27.385506Z"
    },
    "papermill": {
     "duration": null,
     "end_time": null,
     "exception": null,
     "start_time": null,
     "status": "pending"
    },
    "tags": []
   },
   "outputs": [],
   "source": [
    "from IPython.display import FileLink\n",
    "FileLink(r'version_2.zip')"
   ]
  }
 ],
 "metadata": {
  "kaggle": {
   "accelerator": "gpu",
   "dataSources": [
    {
     "datasetId": 7160945,
     "sourceId": 11433162,
     "sourceType": "datasetVersion"
    },
    {
     "datasetId": 7161327,
     "sourceId": 11433653,
     "sourceType": "datasetVersion"
    },
    {
     "datasetId": 7161428,
     "sourceId": 11433778,
     "sourceType": "datasetVersion"
    }
   ],
   "isGpuEnabled": true,
   "isInternetEnabled": true,
   "language": "python",
   "sourceType": "notebook"
  },
  "kernelspec": {
   "display_name": "Python 3",
   "language": "python",
   "name": "python3"
  },
  "language_info": {
   "codemirror_mode": {
    "name": "ipython",
    "version": 3
   },
   "file_extension": ".py",
   "mimetype": "text/x-python",
   "name": "python",
   "nbconvert_exporter": "python",
   "pygments_lexer": "ipython3",
   "version": "3.11.11"
  },
  "papermill": {
   "default_parameters": {},
   "duration": 42.241205,
   "end_time": "2025-04-17T09:39:18.491551",
   "environment_variables": {},
   "exception": true,
   "input_path": "__notebook__.ipynb",
   "output_path": "__notebook__.ipynb",
   "parameters": {},
   "start_time": "2025-04-17T09:38:36.250346",
   "version": "2.6.0"
  }
 },
 "nbformat": 4,
 "nbformat_minor": 5
}
